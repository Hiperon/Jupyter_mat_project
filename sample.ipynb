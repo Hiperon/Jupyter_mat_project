{
 "cells": [
  {
   "cell_type": "code",
   "id": "e78e50b5a128b12e",
   "metadata": {
    "ExecuteTime": {
     "end_time": "2025-01-19T14:26:48.004792Z",
     "start_time": "2025-01-19T14:26:48.000015Z"
    }
   },
   "source": [
    "import sympy as sp\n",
    "import numpy as np"
   ],
   "outputs": [],
   "execution_count": 24
  },
  {
   "cell_type": "markdown",
   "id": "8a77807f92f26ee",
   "metadata": {},
   "source": [
    "# This is a sample Jupyter Notebook\n",
    "\n",
    "Below is an example of a code cell. \n",
    "Put your cursor into the cell and press Shift+Enter to execute it and select the next one, or click 'Run Cell' button.\n",
    "\n",
    "Press Double Shift to search everywhere for classes, files, tool windows, actions, and settings.\n",
    "\n",
    "To learn more about Jupyter Notebooks in PyCharm, see [help](https://www.jetbrains.com/help/pycharm/ipython-notebook-support.html).\n",
    "For an overview of PyCharm, go to Help -> Learn IDE features or refer to [our documentation](https://www.jetbrains.com/help/pycharm/getting-started.html)."
   ]
  },
  {
   "cell_type": "code",
   "id": "fbc121e30a2defb3",
   "metadata": {
    "ExecuteTime": {
     "end_time": "2025-01-19T14:26:48.064382Z",
     "start_time": "2025-01-19T14:26:48.058159Z"
    }
   },
   "source": [
    "print(\"Hello World!\")\n"
   ],
   "outputs": [
    {
     "name": "stdout",
     "output_type": "stream",
     "text": [
      "Hello World!\n"
     ]
    }
   ],
   "execution_count": 25
  },
  {
   "cell_type": "markdown",
   "id": "5728c9d36f44a731",
   "metadata": {},
   "source": [
    "Zbadać ilość cyfr poniższej liczby $x^p$ w zależności od podstawy g:\n",
    "\n"
   ]
  },
  {
   "cell_type": "code",
   "id": "661c82603be3e3d0",
   "metadata": {
    "ExecuteTime": {
     "end_time": "2025-01-19T14:26:48.124960Z",
     "start_time": "2025-01-19T14:26:48.120392Z"
    }
   },
   "source": [
    "x=1236987654321234578\n",
    "p=3"
   ],
   "outputs": [],
   "execution_count": 26
  },
  {
   "cell_type": "markdown",
   "id": "b639bc812e75b752",
   "metadata": {},
   "source": [
    "Stosujemy wzór $n = 1 + \\lfloor \\log_g(x) \\rfloor$\n",
    "Dodatkowo, ponieważ liczba $x$ jest podniesiona do potęgi, nie chemy też korzystać z funkcji logarytmów, w których sami ustalimy podstawę, przekształcamy ten wzór, korzystając z praw działania na potęgach:\n",
    "$n = 1 + \\lfloor \\log_g(x^p) \\rfloor\n",
    "   = 1 + \\lfloor p \\log_g(x) \\rfloor\n",
    "   = 1 + \\left\\lfloor p \\dfrac{\\log(x)}{\\log(p)} \\right\\rfloor $\n"
   ]
  },
  {
   "cell_type": "code",
   "id": "38f27aeefb028588",
   "metadata": {
    "ExecuteTime": {
     "end_time": "2025-01-19T14:26:48.177086Z",
     "start_time": "2025-01-19T14:26:48.152983Z"
    }
   },
   "source": [
    "def count_digit(liczba, podstawa, power):\n",
    "    digit_number=1+sp.floor(power*np.log(liczba)/np.log(podstawa))\n",
    "    return digit_number\n",
    "for g in range(2,11):\n",
    "    print(\"Zapis z podstawą g=\",g,\"dla x=\" ,x, \"do potęgi p= \",p, \"ma:\", count_digit(x,g,p), \"cyfr\")"
   ],
   "outputs": [
    {
     "name": "stdout",
     "output_type": "stream",
     "text": [
      "Zapis z podstawą g= 2 dla x= 1236987654321234578 do potęgi p=  3 ma: 181 cyfr\n",
      "Zapis z podstawą g= 3 dla x= 1236987654321234578 do potęgi p=  3 ma: 114 cyfr\n",
      "Zapis z podstawą g= 4 dla x= 1236987654321234578 do potęgi p=  3 ma: 91 cyfr\n",
      "Zapis z podstawą g= 5 dla x= 1236987654321234578 do potęgi p=  3 ma: 78 cyfr\n",
      "Zapis z podstawą g= 6 dla x= 1236987654321234578 do potęgi p=  3 ma: 70 cyfr\n",
      "Zapis z podstawą g= 7 dla x= 1236987654321234578 do potęgi p=  3 ma: 65 cyfr\n",
      "Zapis z podstawą g= 8 dla x= 1236987654321234578 do potęgi p=  3 ma: 61 cyfr\n",
      "Zapis z podstawą g= 9 dla x= 1236987654321234578 do potęgi p=  3 ma: 57 cyfr\n",
      "Zapis z podstawą g= 10 dla x= 1236987654321234578 do potęgi p=  3 ma: 55 cyfr\n"
     ]
    }
   ],
   "execution_count": 27
  },
  {
   "cell_type": "code",
   "id": "ff33fdd2-e9a1-44a6-bd0e-d95d77771d13",
   "metadata": {
    "ExecuteTime": {
     "end_time": "2025-01-19T14:26:48.281967Z",
     "start_time": "2025-01-19T14:26:48.273333Z"
    }
   },
   "source": [],
   "outputs": [],
   "execution_count": null
  }
 ],
 "metadata": {
  "kernelspec": {
   "display_name": "Python 3 (ipykernel)",
   "language": "python",
   "name": "python3"
  },
  "language_info": {
   "codemirror_mode": {
    "name": "ipython",
    "version": 3
   },
   "file_extension": ".py",
   "mimetype": "text/x-python",
   "name": "python",
   "nbconvert_exporter": "python",
   "pygments_lexer": "ipython3",
   "version": "3.12.8"
  }
 },
 "nbformat": 4,
 "nbformat_minor": 5
}
