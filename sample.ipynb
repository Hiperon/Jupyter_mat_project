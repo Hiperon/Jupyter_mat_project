{
 "cells": [
  {
   "cell_type": "code",
   "id": "e78e50b5a128b12e",
   "metadata": {
    "ExecuteTime": {
     "end_time": "2025-01-20T00:43:05.227237Z",
     "start_time": "2025-01-20T00:43:04.232847Z"
    }
   },
   "source": [
    "import sympy as sp\n",
    "import numpy as np\n",
    "from IPython.display import display, Math"
   ],
   "outputs": [],
   "execution_count": 1
  },
  {
   "cell_type": "markdown",
   "id": "5728c9d36f44a731",
   "metadata": {},
   "source": [
    "Zad 2. Zbadać ilość cyfr poniższej liczby $x^p$ w zależności od podstawy g:\n",
    "\n"
   ]
  },
  {
   "cell_type": "code",
   "id": "661c82603be3e3d0",
   "metadata": {
    "ExecuteTime": {
     "end_time": "2025-01-20T00:43:05.244718Z",
     "start_time": "2025-01-20T00:43:05.239247Z"
    }
   },
   "source": [
    "x_int = 1236987654321234578\n",
    "p = 3"
   ],
   "outputs": [],
   "execution_count": 2
  },
  {
   "cell_type": "markdown",
   "id": "b639bc812e75b752",
   "metadata": {},
   "source": [
    "Stosujemy wzór $n = 1 + \\lfloor \\log_g(x) \\rfloor$\n",
    "Dodatkowo, ponieważ liczba $x$ jest podniesiona do potęgi, nie chemy też korzystać z funkcji logarytmów, w których sami ustalimy podstawę, przekształcamy ten wzór, korzystając z praw działania na potęgach:\n",
    "$n = 1 + \\lfloor \\ log_g (x^p) \\rfloor\n",
    "   = 1 + \\lfloor p \\log_g(x) \\rfloor\n",
    "   = 1 + \\left\\lfloor p \\dfrac {\\log(x)} {\\log(p)} \\right\\rfloor $\n"
   ]
  },
  {
   "cell_type": "code",
   "id": "38f27aeefb028588",
   "metadata": {
    "ExecuteTime": {
     "end_time": "2025-01-20T00:43:05.292408Z",
     "start_time": "2025-01-20T00:43:05.270716Z"
    }
   },
   "source": [
    "def count_digit(liczba, podstawa, power):\n",
    "    digit_number = 1 + sp.floor (power * np.log (liczba) / np.log (podstawa))\n",
    "    return digit_number\n",
    "for g in range(2,11):\n",
    "    print(\"Zapis z podstawą g=\",g,\"dla x=\" ,x_int, \"do potęgi p= \",p, \"ma:\", count_digit(x_int,g,p), \"cyfr\")"
   ],
   "outputs": [
    {
     "name": "stdout",
     "output_type": "stream",
     "text": [
      "Zapis z podstawą g= 2 dla x= 1236987654321234578 do potęgi p=  3 ma: 181 cyfr\n",
      "Zapis z podstawą g= 3 dla x= 1236987654321234578 do potęgi p=  3 ma: 114 cyfr\n",
      "Zapis z podstawą g= 4 dla x= 1236987654321234578 do potęgi p=  3 ma: 91 cyfr\n",
      "Zapis z podstawą g= 5 dla x= 1236987654321234578 do potęgi p=  3 ma: 78 cyfr\n",
      "Zapis z podstawą g= 6 dla x= 1236987654321234578 do potęgi p=  3 ma: 70 cyfr\n",
      "Zapis z podstawą g= 7 dla x= 1236987654321234578 do potęgi p=  3 ma: 65 cyfr\n",
      "Zapis z podstawą g= 8 dla x= 1236987654321234578 do potęgi p=  3 ma: 61 cyfr\n",
      "Zapis z podstawą g= 9 dla x= 1236987654321234578 do potęgi p=  3 ma: 57 cyfr\n",
      "Zapis z podstawą g= 10 dla x= 1236987654321234578 do potęgi p=  3 ma: 55 cyfr\n"
     ]
    }
   ],
   "execution_count": 3
  },
  {
   "metadata": {},
   "cell_type": "markdown",
   "source": [
    "Zad. 3. Rozwiązać równania:\n",
    "- a) $g(x) = 5x^3 + 4x^2 - 26x + 5 = 0$\n",
    "- b) $h(x) = 5x^4 + 29x^3 + 34x^2 + 23x + 3 = 0$"
   ],
   "id": "eaf2206db79a8472"
  },
  {
   "metadata": {
    "ExecuteTime": {
     "end_time": "2025-01-20T00:43:05.703028Z",
     "start_time": "2025-01-20T00:43:05.646583Z"
    }
   },
   "cell_type": "code",
   "source": [
    "x = sp.Symbol('x')\n",
    "polynomial_g=sp.Poly(5*x**3 + 4*x**2 - 26*x + 5,x)\n",
    "polynomial_h=sp.Poly(5*x**4 + 29*x**3 + 34*x**2 - 23*x + 3,x)"
   ],
   "id": "a69be352382f3b6",
   "outputs": [],
   "execution_count": 4
  },
  {
   "metadata": {},
   "cell_type": "markdown",
   "source": [
    "Zad. 4. Rozwiąż nierówność $f(x) = \\dfrac {g(x)} {h(x)} > 0$ gzie $ g(x) $ i $ h(x) $ są wielomianami z zadania 3.\n",
    "\n",
    "W tym celu najpierw mnożymy wielomiany:"
   ],
   "id": "78cd98ed452fe028"
  },
  {
   "metadata": {
    "ExecuteTime": {
     "end_time": "2025-01-20T01:06:23.278391Z",
     "start_time": "2025-01-20T01:06:23.267795Z"
    }
   },
   "cell_type": "code",
   "source": [
    "polynomial_f = (polynomial_g*polynomial_h)  # Mnożę. Z jakiegoś powodu sympy dla wielomianów\n",
    "                                            # nie wymaga ekspansji wyniku. Reszta kodu to\n",
    "                                            # ładny zapis\n",
    "disp_fx = polynomial_f.as_expr()\n",
    "f = sp.Function('fm')(x)\n",
    "eq_fx = sp.Eq(f, disp_fx)\n",
    "display(eq_fx)"
   ],
   "id": "d740c85ec92994bd",
   "outputs": [
    {
     "data": {
      "text/plain": [
       "Eq(fm(x), 25*x**7 + 165*x**6 + 156*x**5 - 708*x**4 - 816*x**3 + 780*x**2 - 193*x + 15)"
      ],
      "text/latex": "$\\displaystyle \\operatorname{fm}{\\left(x \\right)} = 25 x^{7} + 165 x^{6} + 156 x^{5} - 708 x^{4} - 816 x^{3} + 780 x^{2} - 193 x + 15$"
     },
     "metadata": {},
     "output_type": "display_data"
    }
   ],
   "execution_count": 10
  },
  {
   "metadata": {},
   "cell_type": "markdown",
   "source": "Następnie znajdujemy jego pierwiastki i ustawiamy je w kolejności od najmniejszego",
   "id": "456e4f7052014d37"
  },
  {
   "metadata": {
    "ExecuteTime": {
     "end_time": "2025-01-20T00:43:05.888381Z",
     "start_time": "2025-01-20T00:43:05.825342Z"
    }
   },
   "cell_type": "code",
   "source": [
    "roots_fx = sp.roots(polynomial_f)   #Tutaj liczę pierwiastki, cała reszta\n",
    "                                    #(poza sortowaniem) to ładny zapis\n",
    "sp.default_sort_key(\n",
    "    roots_fx,\n",
    "    order='lex')\n",
    "sorted_roots_fx = dict(sorted(roots_fx.items()))  #Tutaj sortuję\n",
    "for root, count in sorted_roots_fx.items():\n",
    "    latex_root = sp.latex(root)\n",
    "    latex_count = sp.latex(count)\n",
    "    latex_output = ('\\\\text{Pierwiastek: }'\n",
    "                    + latex_root\n",
    "                    + '\\\\text{ pojawił sie: }'\n",
    "                    + latex_count\n",
    "                    + '\\\\text{ razy.}')\n",
    "    display(Math(latex_output))"
   ],
   "id": "65bb69ee7724a8d5",
   "outputs": [
    {
     "data": {
      "text/plain": [
       "<IPython.core.display.Math object>"
      ],
      "text/latex": "$\\displaystyle \\text{Pierwiastek: }- \\frac{\\sqrt{13}}{2} - \\frac{3}{2}\\text{ pojawił sie: }1\\text{ razy.}$"
     },
     "metadata": {},
     "output_type": "display_data"
    },
    {
     "data": {
      "text/plain": [
       "<IPython.core.display.Math object>"
      ],
      "text/latex": "$\\displaystyle \\text{Pierwiastek: }-3\\text{ pojawił sie: }1\\text{ razy.}$"
     },
     "metadata": {},
     "output_type": "display_data"
    },
    {
     "data": {
      "text/plain": [
       "<IPython.core.display.Math object>"
      ],
      "text/latex": "$\\displaystyle \\text{Pierwiastek: }- \\frac{\\sqrt{21}}{2} - \\frac{1}{2}\\text{ pojawił sie: }1\\text{ razy.}$"
     },
     "metadata": {},
     "output_type": "display_data"
    },
    {
     "data": {
      "text/plain": [
       "<IPython.core.display.Math object>"
      ],
      "text/latex": "$\\displaystyle \\text{Pierwiastek: }\\frac{1}{5}\\text{ pojawił sie: }2\\text{ razy.}$"
     },
     "metadata": {},
     "output_type": "display_data"
    },
    {
     "data": {
      "text/plain": [
       "<IPython.core.display.Math object>"
      ],
      "text/latex": "$\\displaystyle \\text{Pierwiastek: }- \\frac{3}{2} + \\frac{\\sqrt{13}}{2}\\text{ pojawił sie: }1\\text{ razy.}$"
     },
     "metadata": {},
     "output_type": "display_data"
    },
    {
     "data": {
      "text/plain": [
       "<IPython.core.display.Math object>"
      ],
      "text/latex": "$\\displaystyle \\text{Pierwiastek: }- \\frac{1}{2} + \\frac{\\sqrt{21}}{2}\\text{ pojawił sie: }1\\text{ razy.}$"
     },
     "metadata": {},
     "output_type": "display_data"
    }
   ],
   "execution_count": 6
  },
  {
   "metadata": {},
   "cell_type": "markdown",
   "source": [
    "**UWAGA**, korzystam z metody innej niż w przykładzie (licealnej). Mogę z niej skorzystać, ponieważ mam informację o ilości pierwiastków. Wielomian jest siódmego poziomu, dlatego dla niskich x-ów jest ujemny. Następnie zmienia znak przy każdym miejscu zerowym, poza miejscem parzystym. Oczywiście znak ilorazu, który mieliśmy określić, jest taki sam jak wielomianu, który badaliśmy, możemy więc zapisać:\n",
    "\n",
    "$f(x) = \\dfrac {g(x)} {h(x)} > 0 \\text{ dla } x\n",
    "\\in \\left(-\\dfrac{\\sqrt{13}}{2}-\\dfrac{3}{2}; -3\\right)\n",
    "\\cup \\left(-\\dfrac{\\sqrt{21}}{2}-\\dfrac{1}{2}; \\dfrac{1}{5}\\right)\n",
    "\\cup \\left(\\dfrac{1}{5}; \\dfrac{\\sqrt{13}}{2}-\\dfrac{3}{2}\\right)\n",
    "\\cup \\left(\\dfrac{\\sqrt{21}}{2}-\\dfrac{1}{2}; +\\infty\\right)$\n"
   ],
   "id": "3c5717e5f7a3b06f"
  }
 ],
 "metadata": {
  "kernelspec": {
   "display_name": "Python 3 (ipykernel)",
   "language": "python",
   "name": "python3"
  },
  "language_info": {
   "codemirror_mode": {
    "name": "ipython",
    "version": 3
   },
   "file_extension": ".py",
   "mimetype": "text/x-python",
   "name": "python",
   "nbconvert_exporter": "python",
   "pygments_lexer": "ipython3",
   "version": "3.12.8"
  }
 },
 "nbformat": 4,
 "nbformat_minor": 5
}
