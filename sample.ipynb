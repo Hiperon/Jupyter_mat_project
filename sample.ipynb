{
 "cells": [
  {
   "cell_type": "code",
   "id": "e78e50b5a128b12e",
   "metadata": {
    "ExecuteTime": {
     "end_time": "2025-01-26T21:50:07.961734Z",
     "start_time": "2025-01-26T21:50:06.937360Z"
    }
   },
   "source": [
    "import math\n",
    "import sympy as sp\n",
    "from sympy import I\n",
    "import numpy as np\n",
    "from IPython.display import display, Math"
   ],
   "outputs": [],
   "execution_count": 2
  },
  {
   "metadata": {},
   "cell_type": "markdown",
   "source": "Zad. 1.",
   "id": "3465ac3720b5f4b"
  },
  {
   "metadata": {
    "ExecuteTime": {
     "end_time": "2025-01-26T21:50:07.990910Z",
     "start_time": "2025-01-26T21:50:07.979755Z"
    }
   },
   "cell_type": "code",
   "source": [
    "def l_i(p,q):\n",
    "  \"\"\"logical implication\"\"\"\n",
    "  return bool(not(p) or q)\n",
    "\n",
    "def get_preposition_1(p,q,r):\n",
    "  \"\"\"(p AND q IMPLIES r) IMPLIES [(p IMPLIES r) AND (q IMPLIES r)]\"\"\"\n",
    "  return l_i(l_i(p and q, r),l_i(p, r) and l_i(q, r))\n",
    "\n",
    "def get_preposition_2(p,q,r):\n",
    "  \"\"\"(((p AND q) IMPLIES r) AND (p OR q IMPLIES NOT r)) IMPLEIS (p OR q OR r)\"\"\"\n",
    "  return l_i(l_i(l_i(p and q, r),l_i(p or q, not r)),(p or q or r))\n",
    "\n",
    "def get_preposition_3(p,q):\n",
    "  \"\"\"p IMPLIES ((NOT p) OR q)\"\"\"\n",
    "  return l_i(p, (not p or q))\n",
    "\n",
    "def get_preposition_4(p,q):\n",
    "  \"\"\"[(p OR q) AND (p IMPLIES q)] IMPLIES (q IMPLIES p)\"\"\"\n",
    "  return l_i((p or q) and l_i(p,q), l_i(q,p))\n",
    "\n",
    "def get_2d_truth_table():\n",
    "  return [[a, b] for a in [1,0] for b in [1,0]]\n",
    "\n",
    "def get_3d_truth_table():\n",
    "  return [[a, b, c] for a in [1,0] for b in [1,0] for c in [1,0]]\n",
    "\n",
    "\n",
    "print(\"a) czy zdanie jest tautologią\\n\")\n",
    "\n",
    "prepositions_a = [get_preposition_1, get_preposition_2]\n",
    "for i, prep_func in enumerate(prepositions_a):\n",
    "  result = []\n",
    "  for p, q, r in get_3d_truth_table():\n",
    "    print(f'p,q,r:{p,q,r} result: {(r:=prep_func(p,q,r))}')\n",
    "    result.append(r)\n",
    "  print(f'is preposition {i+1} tautology: {all(result)}')\n",
    "\n",
    "\n",
    "print(\"\\nb) Zbadać wartościowość zdania i wskazać z którym z 16 zdań z tabelki jest jest rownoważne\\n\")\n",
    "\n",
    "prepositions_b = [get_preposition_3, get_preposition_4]\n",
    "for i, prep_func in enumerate(prepositions_b):\n",
    "  result = []\n",
    "  for p, q in get_2d_truth_table():\n",
    "    print(f'p,q:{p,q} result: {(r:=prep_func(p,q))}')\n",
    "    result.append(r)\n",
    "  print(f'is preposition {i+3} tautology: {all(result)}')\n",
    "\n",
    "\n",
    "\n",
    "\n",
    "print(f'\\nzdanie i) jest rownoważne z p => q (12)')\n",
    "\n",
    "print(f'zdanie ii) jest rownoważne z to q => p (14)')"
   ],
   "id": "d0a5a9a87c3ee9b6",
   "outputs": [
    {
     "name": "stdout",
     "output_type": "stream",
     "text": [
      "a) czy zdanie jest tautologią\n",
      "\n",
      "p,q,r:(1, 1, 1) result: True\n",
      "p,q,r:(1, 1, 0) result: True\n",
      "p,q,r:(1, 0, 1) result: True\n",
      "p,q,r:(1, 0, 0) result: False\n",
      "p,q,r:(0, 1, 1) result: True\n",
      "p,q,r:(0, 1, 0) result: False\n",
      "p,q,r:(0, 0, 1) result: True\n",
      "p,q,r:(0, 0, 0) result: True\n",
      "is preposition 1 tautology: False\n",
      "p,q,r:(1, 1, 1) result: True\n",
      "p,q,r:(1, 1, 0) result: True\n",
      "p,q,r:(1, 0, 1) result: True\n",
      "p,q,r:(1, 0, 0) result: True\n",
      "p,q,r:(0, 1, 1) result: True\n",
      "p,q,r:(0, 1, 0) result: True\n",
      "p,q,r:(0, 0, 1) result: True\n",
      "p,q,r:(0, 0, 0) result: False\n",
      "is preposition 2 tautology: False\n",
      "\n",
      "b) Zbadać wartościowość zdania i wskazać z którym z 16 zdań z tabelki jest jest rownoważne\n",
      "\n",
      "p,q:(1, 1) result: True\n",
      "p,q:(1, 0) result: False\n",
      "p,q:(0, 1) result: True\n",
      "p,q:(0, 0) result: True\n",
      "is preposition 3 tautology: False\n",
      "p,q:(1, 1) result: True\n",
      "p,q:(1, 0) result: True\n",
      "p,q:(0, 1) result: False\n",
      "p,q:(0, 0) result: True\n",
      "is preposition 4 tautology: False\n",
      "\n",
      "zdanie i) jest rownoważne z p => q (12)\n",
      "zdanie ii) jest rownoważne z to q => p (14)\n"
     ]
    }
   ],
   "execution_count": 3
  },
  {
   "cell_type": "markdown",
   "id": "5728c9d36f44a731",
   "metadata": {},
   "source": [
    "Zad 2. Zbadać ilość cyfr poniższej liczby $x^p$ w zależności od podstawy g:\n",
    "\n"
   ]
  },
  {
   "cell_type": "code",
   "id": "661c82603be3e3d0",
   "metadata": {
    "ExecuteTime": {
     "end_time": "2025-01-26T21:50:08.043276Z",
     "start_time": "2025-01-26T21:50:08.039425Z"
    }
   },
   "source": [
    "x_int = 1236987654321234578\n",
    "p = 3"
   ],
   "outputs": [],
   "execution_count": 4
  },
  {
   "cell_type": "markdown",
   "id": "b639bc812e75b752",
   "metadata": {},
   "source": [
    "Stosujemy wzór $n = 1 + \\lfloor \\log_g(x) \\rfloor$\n",
    "Dodatkowo, ponieważ liczba $x$ jest podniesiona do potęgi, nie chemy też korzystać z funkcji logarytmów, w których sami ustalimy podstawę, przekształcamy ten wzór, korzystając z praw działania na potęgach:\n",
    "$n = 1 + \\lfloor \\ log_g (x^p) \\rfloor\n",
    "   = 1 + \\lfloor p \\log_g(x) \\rfloor\n",
    "   = 1 + \\left\\lfloor p \\dfrac {\\log(x)} {\\log(p)} \\right\\rfloor $\n"
   ]
  },
  {
   "cell_type": "code",
   "id": "38f27aeefb028588",
   "metadata": {
    "ExecuteTime": {
     "end_time": "2025-01-26T21:50:08.076796Z",
     "start_time": "2025-01-26T21:50:08.069970Z"
    }
   },
   "source": [
    "def count_digit(liczba, podstawa, power):\n",
    "    digit_number = 1 + sp.floor (power * np.log (liczba) / np.log (podstawa))\n",
    "    return digit_number\n",
    "for g in range(2,11):\n",
    "    print(\"Zapis z podstawą g=\",g,\"dla x=\" ,x_int, \"do potęgi p= \",p, \"ma:\", count_digit(x_int,g,p), \"cyfr\")"
   ],
   "outputs": [
    {
     "name": "stdout",
     "output_type": "stream",
     "text": [
      "Zapis z podstawą g= 2 dla x= 1236987654321234578 do potęgi p=  3 ma: 181 cyfr\n",
      "Zapis z podstawą g= 3 dla x= 1236987654321234578 do potęgi p=  3 ma: 114 cyfr\n",
      "Zapis z podstawą g= 4 dla x= 1236987654321234578 do potęgi p=  3 ma: 91 cyfr\n",
      "Zapis z podstawą g= 5 dla x= 1236987654321234578 do potęgi p=  3 ma: 78 cyfr\n",
      "Zapis z podstawą g= 6 dla x= 1236987654321234578 do potęgi p=  3 ma: 70 cyfr\n",
      "Zapis z podstawą g= 7 dla x= 1236987654321234578 do potęgi p=  3 ma: 65 cyfr\n",
      "Zapis z podstawą g= 8 dla x= 1236987654321234578 do potęgi p=  3 ma: 61 cyfr\n",
      "Zapis z podstawą g= 9 dla x= 1236987654321234578 do potęgi p=  3 ma: 57 cyfr\n",
      "Zapis z podstawą g= 10 dla x= 1236987654321234578 do potęgi p=  3 ma: 55 cyfr\n"
     ]
    }
   ],
   "execution_count": 5
  },
  {
   "metadata": {},
   "cell_type": "markdown",
   "source": [
    "Zad. 3. Rozwiązać równania:\n",
    "- a) $g(x) = 5x^3 + 4x^2 - 26x + 5 = 0$\n",
    "- b) $h(x) = 5x^4 + 29x^3 + 34x^2 + 23x + 3 = 0$"
   ],
   "id": "eaf2206db79a8472"
  },
  {
   "metadata": {
    "ExecuteTime": {
     "end_time": "2025-01-26T21:50:08.427683Z",
     "start_time": "2025-01-26T21:50:08.129634Z"
    }
   },
   "cell_type": "code",
   "source": [
    "x = sp.Symbol('x')\n",
    "polynomial_g=sp.Poly(5*x**3 + 4*x**2 - 26*x + 5,x)\n",
    "polynomial_h=sp.Poly(5*x**4 + 29*x**3 + 34*x**2 - 23*x + 3,x)\n",
    "def get_possible_roots(highest_coeff,constant):\n",
    "  result = [sp.Rational(p,q) for p in sp.divisors(constant) for q in sp.divisors(highest_coeff)]\n",
    "  return list(set(result + [-x for x in result]))\n",
    "\n",
    "# Rozwiązać równania:\n",
    "domain='ZZ'\n",
    "x = sp.Symbol('x')\n",
    "\n",
    "polynomials_dict = {\n",
    "    'a_i': {\n",
    "        'coeffs': (l:= [5,4,-26,5]),\n",
    "        'poly': sp.Poly(l[0]*x**3 + l[1]*x**2 + l[2]*x + l[3],x, domain=domain),\n",
    "    },\n",
    "    'a_ii': {\n",
    "        'coeffs': (l:= [3,-5,-8,-2]),\n",
    "        'poly': sp.Poly(l[0]*x**3 + l[1]*x**2 + l[2]*x + l[3],x, domain=domain),\n",
    "    },\n",
    "    'b_i': {\n",
    "        'coeffs': (l:= [5,29,34,-23,3]),\n",
    "        'poly': sp.Poly(l[0]*x**4 + l[1]*x**3 + l[2]*x**2 + l[3]*x + l[4],x, domain=domain),\n",
    "    },\n",
    "    'b_ii': {\n",
    "        'coeffs': (l:= [5,-29,34,23,3]),\n",
    "        'poly': sp.Poly(l[0]*x**4 + l[1]*x**3 + l[2]*x**2 + l[3]*x + l[4],x, domain=domain),\n",
    "    },\n",
    "}\n",
    "\n",
    "for ex in polynomials_dict.values():\n",
    "  display(ex['poly'])\n",
    "\n",
    "for example_id, poly_dict in polynomials_dict.items():\n",
    "  # 1. badanie rozwiązań całkowitych i wymiernych:\n",
    "  solutions = [r for r in get_possible_roots(poly_dict['coeffs'][0],poly_dict['coeffs'][-1]) if poly_dict['poly'].subs(x, r) == 0.0]\n",
    "  # 2. wielomian wyjściowy dzielę przez iloraz f(x) = (x - pierwiastek) dla pierwiastków które znalazłem w 1.\n",
    "  lower_level_poly, _ = sp.div(\n",
    "      poly_dict['poly'],\n",
    "      math.prod([sp.Poly(x-s,x, domain='RR') for s in solutions]),\n",
    "      domain='QQ',\n",
    "    )\n",
    "  # 3. otrzymuję kolejne pierwiastki z powstałego wielomianu 2. stopnia:\n",
    "  roots = sp.roots(lower_level_poly)\n",
    "  print(f'example {example_id}: first root found: {solutions}; roots for lower level poly: {list(roots.keys())}')"
   ],
   "id": "a69be352382f3b6",
   "outputs": [
    {
     "data": {
      "text/plain": [
       "Poly(5*x**3 + 4*x**2 - 26*x + 5, x, domain='ZZ')"
      ],
      "text/latex": "$\\displaystyle \\operatorname{Poly}{\\left( 5 x^{3} + 4 x^{2} - 26 x + 5, x, domain=\\mathbb{Z} \\right)}$"
     },
     "metadata": {},
     "output_type": "display_data"
    },
    {
     "data": {
      "text/plain": [
       "Poly(3*x**3 - 5*x**2 - 8*x - 2, x, domain='ZZ')"
      ],
      "text/latex": "$\\displaystyle \\operatorname{Poly}{\\left( 3 x^{3} - 5 x^{2} - 8 x - 2, x, domain=\\mathbb{Z} \\right)}$"
     },
     "metadata": {},
     "output_type": "display_data"
    },
    {
     "data": {
      "text/plain": [
       "Poly(5*x**4 + 29*x**3 + 34*x**2 - 23*x + 3, x, domain='ZZ')"
      ],
      "text/latex": "$\\displaystyle \\operatorname{Poly}{\\left( 5 x^{4} + 29 x^{3} + 34 x^{2} - 23 x + 3, x, domain=\\mathbb{Z} \\right)}$"
     },
     "metadata": {},
     "output_type": "display_data"
    },
    {
     "data": {
      "text/plain": [
       "Poly(5*x**4 - 29*x**3 + 34*x**2 + 23*x + 3, x, domain='ZZ')"
      ],
      "text/latex": "$\\displaystyle \\operatorname{Poly}{\\left( 5 x^{4} - 29 x^{3} + 34 x^{2} + 23 x + 3, x, domain=\\mathbb{Z} \\right)}$"
     },
     "metadata": {},
     "output_type": "display_data"
    },
    {
     "name": "stdout",
     "output_type": "stream",
     "text": [
      "example a_i: first root found: []; roots for lower level poly: [1/5, -sqrt(21)/2 - 1/2, -1/2 + sqrt(21)/2]\n",
      "example a_ii: first root found: []; roots for lower level poly: [-1/3, 1 - sqrt(3), 1 + sqrt(3)]\n",
      "example b_i: first root found: []; roots for lower level poly: [-3, 1/5, -sqrt(13)/2 - 3/2, -3/2 + sqrt(13)/2]\n",
      "example b_ii: first root found: []; roots for lower level poly: [3, -1/5, 3/2 - sqrt(13)/2, 3/2 + sqrt(13)/2]\n"
     ]
    }
   ],
   "execution_count": 6
  },
  {
   "metadata": {},
   "cell_type": "markdown",
   "source": [
    "Zad. 4. Rozwiąż nierówność $f(x) = \\dfrac {g(x)} {h(x)} > 0$ gzie $ g(x) $ i $ h(x) $ są wielomianami z zadania 3.\n",
    "\n",
    "W tym celu najpierw mnożymy wielomiany:"
   ],
   "id": "78cd98ed452fe028"
  },
  {
   "metadata": {
    "ExecuteTime": {
     "end_time": "2025-01-26T21:50:08.612303Z",
     "start_time": "2025-01-26T21:50:08.473305Z"
    }
   },
   "cell_type": "code",
   "source": [
    "polynomial_f = (polynomial_g*polynomial_h)  # Mnożę. Z jakiegoś powodu sympy dla wielomianów\n",
    "                                            # nie wymaga ekspansji wyniku. Reszta kodu to\n",
    "                                            # ładny zapis\n",
    "disp_fx = polynomial_f.as_expr()\n",
    "f = sp.Function('fm')(x)\n",
    "eq_fx = sp.Eq(f, disp_fx)\n",
    "display(eq_fx)"
   ],
   "id": "d740c85ec92994bd",
   "outputs": [
    {
     "data": {
      "text/plain": [
       "Eq(fm(x), 25*x**7 + 165*x**6 + 156*x**5 - 708*x**4 - 816*x**3 + 780*x**2 - 193*x + 15)"
      ],
      "text/latex": "$\\displaystyle \\operatorname{fm}{\\left(x \\right)} = 25 x^{7} + 165 x^{6} + 156 x^{5} - 708 x^{4} - 816 x^{3} + 780 x^{2} - 193 x + 15$"
     },
     "metadata": {},
     "output_type": "display_data"
    }
   ],
   "execution_count": 7
  },
  {
   "metadata": {},
   "cell_type": "markdown",
   "source": "Następnie znajdujemy jego pierwiastki i ustawiamy je w kolejności od najmniejszego",
   "id": "456e4f7052014d37"
  },
  {
   "metadata": {
    "ExecuteTime": {
     "end_time": "2025-01-26T21:50:08.754305Z",
     "start_time": "2025-01-26T21:50:08.644306Z"
    }
   },
   "cell_type": "code",
   "source": [
    "roots_fx = sp.roots(polynomial_f)   #Tutaj liczę pierwiastki, cała reszta\n",
    "sorted_roots_fx = dict(sorted(roots_fx.items()))  #Tutaj sortuję\n",
    "for root, count in sorted_roots_fx.items():\n",
    "    latex_root = sp.latex(root)\n",
    "    latex_count = sp.latex(count)\n",
    "    latex_output = ('\\\\text{Pierwiastek: }'\n",
    "                    + latex_root\n",
    "                    + '\\\\text{ pojawił sie: }'\n",
    "                    + latex_count\n",
    "                    + '\\\\text{ razy.}')\n",
    "    display(Math(latex_output))"
   ],
   "id": "65bb69ee7724a8d5",
   "outputs": [
    {
     "data": {
      "text/plain": [
       "<IPython.core.display.Math object>"
      ],
      "text/latex": "$\\displaystyle \\text{Pierwiastek: }- \\frac{\\sqrt{13}}{2} - \\frac{3}{2}\\text{ pojawił sie: }1\\text{ razy.}$"
     },
     "metadata": {},
     "output_type": "display_data"
    },
    {
     "data": {
      "text/plain": [
       "<IPython.core.display.Math object>"
      ],
      "text/latex": "$\\displaystyle \\text{Pierwiastek: }-3\\text{ pojawił sie: }1\\text{ razy.}$"
     },
     "metadata": {},
     "output_type": "display_data"
    },
    {
     "data": {
      "text/plain": [
       "<IPython.core.display.Math object>"
      ],
      "text/latex": "$\\displaystyle \\text{Pierwiastek: }- \\frac{\\sqrt{21}}{2} - \\frac{1}{2}\\text{ pojawił sie: }1\\text{ razy.}$"
     },
     "metadata": {},
     "output_type": "display_data"
    },
    {
     "data": {
      "text/plain": [
       "<IPython.core.display.Math object>"
      ],
      "text/latex": "$\\displaystyle \\text{Pierwiastek: }\\frac{1}{5}\\text{ pojawił sie: }2\\text{ razy.}$"
     },
     "metadata": {},
     "output_type": "display_data"
    },
    {
     "data": {
      "text/plain": [
       "<IPython.core.display.Math object>"
      ],
      "text/latex": "$\\displaystyle \\text{Pierwiastek: }- \\frac{3}{2} + \\frac{\\sqrt{13}}{2}\\text{ pojawił sie: }1\\text{ razy.}$"
     },
     "metadata": {},
     "output_type": "display_data"
    },
    {
     "data": {
      "text/plain": [
       "<IPython.core.display.Math object>"
      ],
      "text/latex": "$\\displaystyle \\text{Pierwiastek: }- \\frac{1}{2} + \\frac{\\sqrt{21}}{2}\\text{ pojawił sie: }1\\text{ razy.}$"
     },
     "metadata": {},
     "output_type": "display_data"
    }
   ],
   "execution_count": 8
  },
  {
   "metadata": {},
   "cell_type": "markdown",
   "source": [
    "**UWAGA**, korzystam z metody innej niż w przykładzie (licealnej). Mogę z niej skorzystać, ponieważ mam informację o ilości pierwiastków. Wielomian jest siódmego poziomu, dlatego dla niskich x-ów jest ujemny. Następnie zmienia znak przy każdym miejscu zerowym, poza miejscem parzystym. Oczywiście znak ilorazu, który mieliśmy określić, jest taki sam jak wielomianu, który badaliśmy, możemy więc zapisać:\n",
    "\n",
    "$f(x) = \\dfrac {g(x)} {h(x)} > 0 \\text{ dla } x\n",
    "\\in \\left(-\\dfrac{\\sqrt{13}}{2}-\\dfrac{3}{2}; -3\\right)\n",
    "\\cup \\left(-\\dfrac{\\sqrt{21}}{2}-\\dfrac{1}{2}; \\dfrac{1}{5}\\right)\n",
    "\\cup \\left(\\dfrac{1}{5}; \\dfrac{\\sqrt{13}}{2}-\\dfrac{3}{2}\\right)\n",
    "\\cup \\left(\\dfrac{\\sqrt{21}}{2}-\\dfrac{1}{2}; +\\infty\\right)$\n"
   ],
   "id": "3c5717e5f7a3b06f"
  },
  {
   "metadata": {},
   "cell_type": "markdown",
   "source": "Zad. 5.",
   "id": "805ffa3e4a81f1cb"
  },
  {
   "metadata": {
    "ExecuteTime": {
     "end_time": "2025-01-26T21:50:09.136891Z",
     "start_time": "2025-01-26T21:50:08.856244Z"
    }
   },
   "cell_type": "code",
   "source": [
    "def characteristic_polynomial(matrix, display_matrix=False):\n",
    "    size = matrix.shape[0]\n",
    "    lambda_latex = sp.Symbol('\\\\lambda')\n",
    "    matrix_lambda = matrix - lambda_latex * sp.eye(size)\n",
    "    characteristic_polynomial = matrix_lambda.det()\n",
    "\n",
    "    if display_matrix:\n",
    "      display(matrix)\n",
    "      display(Math(sp.latex(matrix_lambda)))\n",
    "      display(characteristic_polynomial)\n",
    "\n",
    "    return sp.Poly(characteristic_polynomial)\n",
    "\n",
    "def get_coeffs(poly):\n",
    "  coeffs = poly.coeffs()\n",
    "  return [*coeffs,0] if len(coeffs) == poly.degree() else coeffs\n",
    "\n",
    "print('Dla macierzy A obliczyć macierz odwrotną\\n')\n",
    "\n",
    "A = sp.Matrix([\n",
    "    [1, 1, 1, 1],\n",
    "     [-1, -2, 3, 4],\n",
    "      [1, 4, 9, 16],\n",
    "       [-1, -8, 27, 64]])\n",
    "\n",
    "display(A)\n",
    "\n",
    "print('\\na) przy pomocy wielomianu charakterystycznego\\n')\n",
    "\n",
    "print('liczymy wielomian charakterystyczny:\\n')\n",
    "\n",
    "\n",
    "char_poly = characteristic_polynomial(A, display_matrix=True)\n",
    "\n",
    "print('stosujemy tw. Cayleya Hamiltona: widzimy że wychodzi nam macierz 0 a w kolejnych przekształceniach True więc jest OK\\n')\n",
    "I_4 = sp.eye(4)\n",
    "coeff_1,coeff_2,coeff_3,coeff_4,coeff_5 = char_poly.coeffs()\n",
    "coeff_1*A**4 + coeff_2*A**3 + coeff_3*A**2 + coeff_4*A + coeff_5*I_4\n",
    "\n",
    "print(coeff_1*A**4 + coeff_2*A**3 + coeff_3*A**2 + coeff_4*A == -coeff_5*I_4)\n",
    "print(A*(coeff_1*A**3 + coeff_2*A**2 + coeff_3*A + coeff_4*I_4) == -coeff_5*I_4)\n",
    "\n",
    "print('mnożymy przez odwrotność współczynnika z prawej strony równania\\n')\n",
    "B_1 = (sp.Rational(1,-coeff_5))*(coeff_1*A**3 + coeff_2*A**2 + coeff_3*A + coeff_4*I_4)\n",
    "display(B_1)\n",
    "print('\\nsprawdzamy:\\n')\n",
    "display(A * B_1)\n",
    "\n",
    "print('\\n')\n",
    "print('b) rozwiązując układy równań\\n')\n",
    "\n",
    "\n",
    "# mnożę A przez kolumnę z niewiadomymi aby otrzymać układ\n",
    "x,y,u,v = sp.symbols(\"x,y,u,v\")\n",
    "C = sp.Matrix([[x],[y],[u],[v]])\n",
    "display(C)\n",
    "D = A*C\n",
    "display(D)\n",
    "\n",
    "# solutions\n",
    "s1=sp.solve((sp.Eq(D[0],1), sp.Eq(D[1],0), sp.Eq(D[2],0), sp.Eq(D[3],0)), (x,y,u,v))\n",
    "s2=sp.solve((sp.Eq(D[0],0), sp.Eq(D[1],1), sp.Eq(D[2],0), sp.Eq(D[3],0)), (x,y,u,v))\n",
    "s3=sp.solve((sp.Eq(D[0],0), sp.Eq(D[1],0), sp.Eq(D[2],1), sp.Eq(D[3],0)), (x,y,u,v))\n",
    "s4=sp.solve((sp.Eq(D[0],0), sp.Eq(D[1],0), sp.Eq(D[2],0), sp.Eq(D[3],1)), (x,y,u,v))\n",
    "print(s1)\n",
    "print(s2)\n",
    "print(s3)\n",
    "print(s4)\n",
    "\n",
    "print('\\nukładam macierz:\\n')\n",
    "\n",
    "B_2 = sp.Matrix([\n",
    "    [s1[x],s1[y],s1[u],s1[v]],\n",
    "     [s2[x],s2[y],s2[u],s2[v]],\n",
    "      [s3[x],s3[y],s3[u],s3[v]],\n",
    "       [s4[x],s4[y],s4[u],s4[v]],\n",
    "        ]).transpose()\n",
    "display(B_2)\n",
    "\n",
    "print('\\nsprawdzamy:\\n')\n",
    "display(A * B_2)"
   ],
   "id": "9f8601134500e82d",
   "outputs": [
    {
     "name": "stdout",
     "output_type": "stream",
     "text": [
      "Dla macierzy A obliczyć macierz odwrotną\n",
      "\n"
     ]
    },
    {
     "data": {
      "text/plain": [
       "Matrix([\n",
       "[ 1,  1,  1,  1],\n",
       "[-1, -2,  3,  4],\n",
       "[ 1,  4,  9, 16],\n",
       "[-1, -8, 27, 64]])"
      ],
      "text/latex": "$\\displaystyle \\left[\\begin{matrix}1 & 1 & 1 & 1\\\\-1 & -2 & 3 & 4\\\\1 & 4 & 9 & 16\\\\-1 & -8 & 27 & 64\\end{matrix}\\right]$"
     },
     "metadata": {},
     "output_type": "display_data"
    },
    {
     "name": "stdout",
     "output_type": "stream",
     "text": [
      "\n",
      "a) przy pomocy wielomianu charakterystycznego\n",
      "\n",
      "liczymy wielomian charakterystyczny:\n",
      "\n"
     ]
    },
    {
     "data": {
      "text/plain": [
       "Matrix([\n",
       "[ 1,  1,  1,  1],\n",
       "[-1, -2,  3,  4],\n",
       "[ 1,  4,  9, 16],\n",
       "[-1, -8, 27, 64]])"
      ],
      "text/latex": "$\\displaystyle \\left[\\begin{matrix}1 & 1 & 1 & 1\\\\-1 & -2 & 3 & 4\\\\1 & 4 & 9 & 16\\\\-1 & -8 & 27 & 64\\end{matrix}\\right]$"
     },
     "metadata": {},
     "output_type": "display_data"
    },
    {
     "data": {
      "text/plain": [
       "<IPython.core.display.Math object>"
      ],
      "text/latex": "$\\displaystyle \\left[\\begin{matrix}1 - \\lambda & 1 & 1 & 1\\\\-1 & - \\lambda - 2 & 3 & 4\\\\1 & 4 & 9 - \\lambda & 16\\\\-1 & -8 & 27 & 64 - \\lambda\\end{matrix}\\right]$"
     },
     "metadata": {},
     "output_type": "display_data"
    },
    {
     "data": {
      "text/plain": [
       "\\lambda**4 - 72*\\lambda**3 + 90*\\lambda**2 + 670*\\lambda - 600"
      ],
      "text/latex": "$\\displaystyle \\lambda^{4} - 72 \\lambda^{3} + 90 \\lambda^{2} + 670 \\lambda - 600$"
     },
     "metadata": {},
     "output_type": "display_data"
    },
    {
     "name": "stdout",
     "output_type": "stream",
     "text": [
      "stosujemy tw. Cayleya Hamiltona: widzimy że wychodzi nam macierz 0 a w kolejnych przekształceniach True więc jest OK\n",
      "\n",
      "True\n",
      "True\n",
      "mnożymy przez odwrotność współczynnika z prawej strony równania\n",
      "\n"
     ]
    },
    {
     "data": {
      "text/plain": [
       "Matrix([\n",
       "[ 6/5, -1/10, -1/4,  1/20],\n",
       "[-2/5,  -1/6,  1/5, -1/30],\n",
       "[ 2/5,   1/2, 1/20, -1/20],\n",
       "[-1/5, -7/30,    0,  1/30]])"
      ],
      "text/latex": "$\\displaystyle \\left[\\begin{matrix}\\frac{6}{5} & - \\frac{1}{10} & - \\frac{1}{4} & \\frac{1}{20}\\\\- \\frac{2}{5} & - \\frac{1}{6} & \\frac{1}{5} & - \\frac{1}{30}\\\\\\frac{2}{5} & \\frac{1}{2} & \\frac{1}{20} & - \\frac{1}{20}\\\\- \\frac{1}{5} & - \\frac{7}{30} & 0 & \\frac{1}{30}\\end{matrix}\\right]$"
     },
     "metadata": {},
     "output_type": "display_data"
    },
    {
     "name": "stdout",
     "output_type": "stream",
     "text": [
      "\n",
      "sprawdzamy:\n",
      "\n"
     ]
    },
    {
     "data": {
      "text/plain": [
       "Matrix([\n",
       "[1, 0, 0, 0],\n",
       "[0, 1, 0, 0],\n",
       "[0, 0, 1, 0],\n",
       "[0, 0, 0, 1]])"
      ],
      "text/latex": "$\\displaystyle \\left[\\begin{matrix}1 & 0 & 0 & 0\\\\0 & 1 & 0 & 0\\\\0 & 0 & 1 & 0\\\\0 & 0 & 0 & 1\\end{matrix}\\right]$"
     },
     "metadata": {},
     "output_type": "display_data"
    },
    {
     "name": "stdout",
     "output_type": "stream",
     "text": [
      "\n",
      "\n",
      "b) rozwiązując układy równań\n",
      "\n"
     ]
    },
    {
     "data": {
      "text/plain": [
       "Matrix([\n",
       "[x],\n",
       "[y],\n",
       "[u],\n",
       "[v]])"
      ],
      "text/latex": "$\\displaystyle \\left[\\begin{matrix}x\\\\y\\\\u\\\\v\\end{matrix}\\right]$"
     },
     "metadata": {},
     "output_type": "display_data"
    },
    {
     "data": {
      "text/plain": [
       "Matrix([\n",
       "[        u + v + x + y],\n",
       "[  3*u + 4*v - x - 2*y],\n",
       "[ 9*u + 16*v + x + 4*y],\n",
       "[27*u + 64*v - x - 8*y]])"
      ],
      "text/latex": "$\\displaystyle \\left[\\begin{matrix}u + v + x + y\\\\3 u + 4 v - x - 2 y\\\\9 u + 16 v + x + 4 y\\\\27 u + 64 v - x - 8 y\\end{matrix}\\right]$"
     },
     "metadata": {},
     "output_type": "display_data"
    },
    {
     "name": "stdout",
     "output_type": "stream",
     "text": [
      "{u: 2/5, v: -1/5, x: 6/5, y: -2/5}\n",
      "{u: 1/2, v: -7/30, x: -1/10, y: -1/6}\n",
      "{u: 1/20, v: 0, x: -1/4, y: 1/5}\n",
      "{u: -1/20, v: 1/30, x: 1/20, y: -1/30}\n",
      "\n",
      "układam macierz:\n",
      "\n"
     ]
    },
    {
     "data": {
      "text/plain": [
       "Matrix([\n",
       "[ 6/5, -1/10, -1/4,  1/20],\n",
       "[-2/5,  -1/6,  1/5, -1/30],\n",
       "[ 2/5,   1/2, 1/20, -1/20],\n",
       "[-1/5, -7/30,    0,  1/30]])"
      ],
      "text/latex": "$\\displaystyle \\left[\\begin{matrix}\\frac{6}{5} & - \\frac{1}{10} & - \\frac{1}{4} & \\frac{1}{20}\\\\- \\frac{2}{5} & - \\frac{1}{6} & \\frac{1}{5} & - \\frac{1}{30}\\\\\\frac{2}{5} & \\frac{1}{2} & \\frac{1}{20} & - \\frac{1}{20}\\\\- \\frac{1}{5} & - \\frac{7}{30} & 0 & \\frac{1}{30}\\end{matrix}\\right]$"
     },
     "metadata": {},
     "output_type": "display_data"
    },
    {
     "name": "stdout",
     "output_type": "stream",
     "text": [
      "\n",
      "sprawdzamy:\n",
      "\n"
     ]
    },
    {
     "data": {
      "text/plain": [
       "Matrix([\n",
       "[1, 0, 0, 0],\n",
       "[0, 1, 0, 0],\n",
       "[0, 0, 1, 0],\n",
       "[0, 0, 0, 1]])"
      ],
      "text/latex": "$\\displaystyle \\left[\\begin{matrix}1 & 0 & 0 & 0\\\\0 & 1 & 0 & 0\\\\0 & 0 & 1 & 0\\\\0 & 0 & 0 & 1\\end{matrix}\\right]$"
     },
     "metadata": {},
     "output_type": "display_data"
    }
   ],
   "execution_count": 9
  },
  {
   "metadata": {},
   "cell_type": "markdown",
   "source": [
    "Zad. 6.\n",
    "- a) Obliczyć rząd macierzy **A**\n",
    "- b) Przy pomocy wielomianu charakterystycznego macierzy **A**, znaleźć macierz **B** taką, że $\\mathbf{A}\\cdot\\mathbf{B} = \\mathbf{B}\\cdot\\mathbf{A} = 0$"
   ],
   "id": "a6df3c8fb52af07e"
  },
  {
   "metadata": {},
   "cell_type": "markdown",
   "source": "Zapisujemy macierz i obliczamy jej rząd macierzy:",
   "id": "7518e5d98b89209f"
  },
  {
   "metadata": {
    "ExecuteTime": {
     "end_time": "2025-01-26T21:50:09.313372Z",
     "start_time": "2025-01-26T21:50:09.303916Z"
    }
   },
   "cell_type": "code",
   "source": [
    "A_matrix = sp.Matrix([[-1, -2, -3, -4],\n",
    "                      [3, 2, 1, 0],\n",
    "                      [4, 4, 4, 9],\n",
    "                      [4, 0, -4, 2]])\n",
    "display(A_matrix)\n",
    "print(\"Rząd macierzy A wynosi:\", A_matrix.rank())"
   ],
   "id": "e44fa0aba81fc11b",
   "outputs": [
    {
     "data": {
      "text/plain": [
       "Matrix([\n",
       "[-1, -2, -3, -4],\n",
       "[ 3,  2,  1,  0],\n",
       "[ 4,  4,  4,  9],\n",
       "[ 4,  0, -4,  2]])"
      ],
      "text/latex": "$\\displaystyle \\left[\\begin{matrix}-1 & -2 & -3 & -4\\\\3 & 2 & 1 & 0\\\\4 & 4 & 4 & 9\\\\4 & 0 & -4 & 2\\end{matrix}\\right]$"
     },
     "metadata": {},
     "output_type": "display_data"
    },
    {
     "name": "stdout",
     "output_type": "stream",
     "text": [
      "Rząd macierzy A wynosi: 3\n"
     ]
    }
   ],
   "execution_count": 10
  },
  {
   "metadata": {},
   "cell_type": "markdown",
   "source": "Przygotowujemy funkcję wyliczającą wielomian charakterystyczny. Możemy też oczywiście skorzystać z funkcji bibliotecznej i zrobimy to do sprawdzenia wyniku. Normalnie chcemy jednak zrobić wszystko krok po kroku, żeby lepiej zrozumieć, co robimy.",
   "id": "4d061022bb2e9fc1"
  },
  {
   "metadata": {
    "ExecuteTime": {
     "end_time": "2025-01-26T21:50:09.489256Z",
     "start_time": "2025-01-26T21:50:09.343385Z"
    }
   },
   "cell_type": "code",
   "source": [
    "def characteristic_polynomial(matrix):\n",
    "    size = matrix.shape[0]\n",
    "    lambda_latex = sp.Symbol('\\\\lambda')\n",
    "    matrix_lambda = matrix - lambda_latex * sp.eye(size)\n",
    "    display(Math(sp.latex(matrix_lambda)))\n",
    "    characteristic_polynomial = matrix_lambda.det()\n",
    "    return characteristic_polynomial\n",
    "\n",
    "A_poly = characteristic_polynomial(A_matrix)\n",
    "display(A_poly)\n",
    "print(\"Sprawdźmy, czy funkcja biblioteczna daje nam ten sam wynik:\")\n",
    "display(A_matrix.charpoly().as_expr())"
   ],
   "id": "3e7c171583c0c3b2",
   "outputs": [
    {
     "data": {
      "text/plain": [
       "<IPython.core.display.Math object>"
      ],
      "text/latex": "$\\displaystyle \\left[\\begin{matrix}- \\lambda - 1 & -2 & -3 & -4\\\\3 & 2 - \\lambda & 1 & 0\\\\4 & 4 & 4 - \\lambda & 9\\\\4 & 0 & -4 & 2 - \\lambda\\end{matrix}\\right]$"
     },
     "metadata": {},
     "output_type": "display_data"
    },
    {
     "data": {
      "text/plain": [
       "\\lambda**4 - 7*\\lambda**3 + 78*\\lambda**2 - 120*\\lambda"
      ],
      "text/latex": "$\\displaystyle \\lambda^{4} - 7 \\lambda^{3} + 78 \\lambda^{2} - 120 \\lambda$"
     },
     "metadata": {},
     "output_type": "display_data"
    },
    {
     "name": "stdout",
     "output_type": "stream",
     "text": [
      "Sprawdźmy, czy funkcja biblioteczna daje nam ten sam wynik:\n"
     ]
    },
    {
     "data": {
      "text/plain": [
       "lambda**4 - 7*lambda**3 + 78*lambda**2 - 120*lambda"
      ],
      "text/latex": "$\\displaystyle \\lambda^{4} - 7 \\lambda^{3} + 78 \\lambda^{2} - 120 \\lambda$"
     },
     "metadata": {},
     "output_type": "display_data"
    }
   ],
   "execution_count": 11
  },
  {
   "metadata": {},
   "cell_type": "markdown",
   "source": [
    "Możemy teraz stworzyć funkcję, wielomian charakterystyczny pozwala nam zapisać:\n",
    "\n",
    "$\\varphi (\\lambda) = \\lambda^4 -7\\lambda^3 +78\\lambda^2 -120\\lambda = 0$\n",
    "\n",
    "I na mocy twierdzenia Cayley'a-Hamiltona:\n",
    "\n",
    "$\\varphi (\\mathbf{A}) = 0$\n",
    "\n",
    "Czyli\n",
    "\n",
    "$\\varphi (\\mathbf{A}) = \\mathbf{A}^4 -7\\mathbf{A}^3 +78\\mathbf{A}^2 -120\\mathbf{A} = 0$\n",
    "\n",
    "Przekształcamy równanie macierzowe, wyciągając **A** przed nawias. Wtedy A, przemnożone przez to, co jest w nawiasie, będzie równe zero, a tego szukamy:\n",
    "\n",
    "$\\mathbf{A}(\\mathbf{A}^3 -7\\mathbf{A}^2 +78\\mathbf{A}^1 -120\\mathbf{I}) = 0$\n",
    "$\\mathbf{B}=\\mathbf{A}^3 -7\\mathbf{A}^2 +78\\mathbf{A}^1 -120\\mathbf{I}$\n",
    "\n",
    "Teraz możemy wykonać obliczenia, a potem sprawdzić, czy rzeczywiście wszystko wykonaliśmy poprawnie i  $\\mathbf{A}\\cdot\\mathbf{B} = \\mathbf{B}\\cdot\\mathbf{A} = 0$"
   ],
   "id": "673e5a3468bd4553"
  },
  {
   "metadata": {
    "ExecuteTime": {
     "end_time": "2025-01-26T21:50:09.581541Z",
     "start_time": "2025-01-26T21:50:09.550258Z"
    }
   },
   "cell_type": "code",
   "source": [
    "B_matrix = A_matrix**3 - 7*A_matrix**2 + 78*A_matrix**1 - 120*sp.eye(4)\n",
    "display(B_matrix)\n",
    "display(B_matrix*A_matrix)\n",
    "display(A_matrix*B_matrix)"
   ],
   "id": "30aa8351748e8d5a",
   "outputs": [
    {
     "data": {
      "text/plain": [
       "Matrix([\n",
       "[-80, 0, -40,  20],\n",
       "[160, 0,  80, -40],\n",
       "[-80, 0, -40,  20],\n",
       "[  0, 0,   0,   0]])"
      ],
      "text/latex": "$\\displaystyle \\left[\\begin{matrix}-80 & 0 & -40 & 20\\\\160 & 0 & 80 & -40\\\\-80 & 0 & -40 & 20\\\\0 & 0 & 0 & 0\\end{matrix}\\right]$"
     },
     "metadata": {},
     "output_type": "display_data"
    },
    {
     "data": {
      "text/plain": [
       "Matrix([\n",
       "[0, 0, 0, 0],\n",
       "[0, 0, 0, 0],\n",
       "[0, 0, 0, 0],\n",
       "[0, 0, 0, 0]])"
      ],
      "text/latex": "$\\displaystyle \\left[\\begin{matrix}0 & 0 & 0 & 0\\\\0 & 0 & 0 & 0\\\\0 & 0 & 0 & 0\\\\0 & 0 & 0 & 0\\end{matrix}\\right]$"
     },
     "metadata": {},
     "output_type": "display_data"
    },
    {
     "data": {
      "text/plain": [
       "Matrix([\n",
       "[0, 0, 0, 0],\n",
       "[0, 0, 0, 0],\n",
       "[0, 0, 0, 0],\n",
       "[0, 0, 0, 0]])"
      ],
      "text/latex": "$\\displaystyle \\left[\\begin{matrix}0 & 0 & 0 & 0\\\\0 & 0 & 0 & 0\\\\0 & 0 & 0 & 0\\\\0 & 0 & 0 & 0\\end{matrix}\\right]$"
     },
     "metadata": {},
     "output_type": "display_data"
    }
   ],
   "execution_count": 12
  },
  {
   "metadata": {},
   "cell_type": "markdown",
   "source": [
    "Zad. 7. Rozwiązać układ równań:\n",
    "$$\n",
    "\\begin{cases}\n",
    "2x + 3y - z - 2s + t = 6\\\\\n",
    "4x + 7y - 2z - 5s - t = 11\\\\\n",
    "6x + 5y - 2z - 2s + 9t = 1\n",
    "\\end{cases}\n",
    "$$\n",
    "i opisać\n",
    "- a) wektorowo\n",
    "- b) macierzowo\n",
    "jego rozwiązania.\n",
    "\n",
    "Zapisuję macierz wspólczynników, a potem tworzę macierz uzupełnioną, dodając kolumnę wyników:"
   ],
   "id": "10cf6f29d90686f6"
  },
  {
   "metadata": {
    "ExecuteTime": {
     "end_time": "2025-01-26T21:50:09.639418Z",
     "start_time": "2025-01-26T21:50:09.621057Z"
    }
   },
   "cell_type": "code",
   "source": [
    "A_matrix = sp.Matrix([[2, 3, -1, -2, 1],\n",
    "                      [4, 7, -2, -5, -1],\n",
    "                      [6, 5, -3, -2, 9]\n",
    "                      ])\n",
    "display(A_matrix)\n",
    "result_col=sp.Matrix([[6],[11],[1]])\n",
    "display(result_col)\n",
    "U_matrix = A_matrix.row_join(result_col)\n",
    "display(U_matrix)"
   ],
   "id": "507b1988325604de",
   "outputs": [
    {
     "data": {
      "text/plain": [
       "Matrix([\n",
       "[2, 3, -1, -2,  1],\n",
       "[4, 7, -2, -5, -1],\n",
       "[6, 5, -3, -2,  9]])"
      ],
      "text/latex": "$\\displaystyle \\left[\\begin{matrix}2 & 3 & -1 & -2 & 1\\\\4 & 7 & -2 & -5 & -1\\\\6 & 5 & -3 & -2 & 9\\end{matrix}\\right]$"
     },
     "metadata": {},
     "output_type": "display_data"
    },
    {
     "data": {
      "text/plain": [
       "Matrix([\n",
       "[ 6],\n",
       "[11],\n",
       "[ 1]])"
      ],
      "text/latex": "$\\displaystyle \\left[\\begin{matrix}6\\\\11\\\\1\\end{matrix}\\right]$"
     },
     "metadata": {},
     "output_type": "display_data"
    },
    {
     "data": {
      "text/plain": [
       "Matrix([\n",
       "[2, 3, -1, -2,  1,  6],\n",
       "[4, 7, -2, -5, -1, 11],\n",
       "[6, 5, -3, -2,  9,  1]])"
      ],
      "text/latex": "$\\displaystyle \\left[\\begin{matrix}2 & 3 & -1 & -2 & 1 & 6\\\\4 & 7 & -2 & -5 & -1 & 11\\\\6 & 5 & -3 & -2 & 9 & 1\\end{matrix}\\right]$"
     },
     "metadata": {},
     "output_type": "display_data"
    }
   ],
   "execution_count": 13
  },
  {
   "metadata": {},
   "cell_type": "markdown",
   "source": "Teraz możemy skorzystać z twierdzenia Kroneckera-Capelliego, sprawdzając rzędy macierzy zmiennych i uzupełnionej.",
   "id": "da4fb9ecbfa3b53"
  },
  {
   "metadata": {
    "ExecuteTime": {
     "end_time": "2025-01-26T21:50:09.750404Z",
     "start_time": "2025-01-26T21:50:09.732687Z"
    }
   },
   "cell_type": "code",
   "source": [
    "print(A_matrix.rank())\n",
    "print(U_matrix.rank())\n",
    "if A_matrix.rank() == U_matrix.rank():\n",
    "    print(\"Ponieważ rzędy macierzy głównej i uzupełnionej są sobie równe, istnieje przynajmniej jedno rozwiązanie.\")\n",
    "else:\n",
    "    print(\"Ponieważ rzędy macierzy głównej i uzupełnionej są różne od siebie, nie istnieje rozwiązanie tego układu równań i w ten oto sposób kończy się nasza praca w tym zadaniu.\")"
   ],
   "id": "d58497484c7c0cab",
   "outputs": [
    {
     "name": "stdout",
     "output_type": "stream",
     "text": [
      "3\n",
      "3\n",
      "Ponieważ rzędy macierzy głównej i uzupełnionej są sobie równe, istnieje przynajmniej jedno rozwiązanie.\n"
     ]
    }
   ],
   "execution_count": 14
  },
  {
   "metadata": {},
   "cell_type": "markdown",
   "source": "Znajduję kolumny liniowo niezależne, a następnie pozostałe kolumny przerzucam na drugą stronę:",
   "id": "d7d99d596a6190ca"
  },
  {
   "metadata": {
    "ExecuteTime": {
     "end_time": "2025-01-26T21:50:09.802736Z",
     "start_time": "2025-01-26T21:50:09.791402Z"
    }
   },
   "cell_type": "code",
   "source": [
    "base = A_matrix.columnspace()\n",
    "for column in base:\n",
    "    display(column)"
   ],
   "id": "676526e895a3e8c8",
   "outputs": [
    {
     "data": {
      "text/plain": [
       "Matrix([\n",
       "[2],\n",
       "[4],\n",
       "[6]])"
      ],
      "text/latex": "$\\displaystyle \\left[\\begin{matrix}2\\\\4\\\\6\\end{matrix}\\right]$"
     },
     "metadata": {},
     "output_type": "display_data"
    },
    {
     "data": {
      "text/plain": [
       "Matrix([\n",
       "[3],\n",
       "[7],\n",
       "[5]])"
      ],
      "text/latex": "$\\displaystyle \\left[\\begin{matrix}3\\\\7\\\\5\\end{matrix}\\right]$"
     },
     "metadata": {},
     "output_type": "display_data"
    },
    {
     "data": {
      "text/plain": [
       "Matrix([\n",
       "[ 1],\n",
       "[-1],\n",
       "[ 9]])"
      ],
      "text/latex": "$\\displaystyle \\left[\\begin{matrix}1\\\\-1\\\\9\\end{matrix}\\right]$"
     },
     "metadata": {},
     "output_type": "display_data"
    }
   ],
   "execution_count": 15
  },
  {
   "metadata": {
    "ExecuteTime": {
     "end_time": "2025-01-26T21:50:10.021378Z",
     "start_time": "2025-01-26T21:50:09.875706Z"
    }
   },
   "cell_type": "code",
   "source": [
    "x, y, z, s, t, u, v = sp.symbols('x y z s t u v')\n",
    "eq1 = sp.Eq(2*x + 3*y +t ,z + 2*s + 6)\n",
    "eq2 = sp.Eq(4*x + 7*y -t,2*z+5*s + 11)\n",
    "eq3 = sp.Eq(6*x + 5*y +9*t,3*z + 2*s+ 1)\n",
    "display(eq1)\n",
    "display(eq2)\n",
    "display(eq3)\n",
    "solutions = sp.solve((eq1, eq2, eq3), (x, y, t))\n",
    "display(Math(sp.latex(solutions)))"
   ],
   "id": "66e3e7017bc1f88c",
   "outputs": [
    {
     "data": {
      "text/plain": [
       "Eq(t + 2*x + 3*y, 2*s + z + 6)"
      ],
      "text/latex": "$\\displaystyle t + 2 x + 3 y = 2 s + z + 6$"
     },
     "metadata": {},
     "output_type": "display_data"
    },
    {
     "data": {
      "text/plain": [
       "Eq(-t + 4*x + 7*y, 5*s + 2*z + 11)"
      ],
      "text/latex": "$\\displaystyle - t + 4 x + 7 y = 5 s + 2 z + 11$"
     },
     "metadata": {},
     "output_type": "display_data"
    },
    {
     "data": {
      "text/plain": [
       "Eq(9*t + 6*x + 5*y, 2*s + 3*z + 1)"
      ],
      "text/latex": "$\\displaystyle 9 t + 6 x + 5 y = 2 s + 3 z + 1$"
     },
     "metadata": {},
     "output_type": "display_data"
    },
    {
     "data": {
      "text/plain": [
       "<IPython.core.display.Math object>"
      ],
      "text/latex": "$\\displaystyle \\left\\{ t : \\frac{7}{2}, \\  x : - \\frac{s}{2} + \\frac{z}{2} - 13, \\  y : s + \\frac{19}{2}\\right\\}$"
     },
     "metadata": {},
     "output_type": "display_data"
    }
   ],
   "execution_count": 16
  },
  {
   "metadata": {},
   "cell_type": "markdown",
   "source": [
    "Rozwiązania więc zależą od dwóch parametrów, $u$ i $v$, gdzie:\n",
    "$$\n",
    "\\begin{cases}\n",
    "x = \\dfrac{-v+u-26}{2}\\\\\n",
    "y = \\dfrac{2v+19}{2}\\\\\n",
    "z = u\\\\\n",
    "s = v\\\\\n",
    "t = \\dfrac{7}{2}\n",
    "\\end{cases}\n",
    "$$\n",
    "\n",
    "Tworzymy więc wektor rozwiązań:\n"
   ],
   "id": "93c826acf6a9f0d5"
  },
  {
   "metadata": {
    "ExecuteTime": {
     "end_time": "2025-01-26T21:50:10.067757Z",
     "start_time": "2025-01-26T21:50:10.034377Z"
    }
   },
   "cell_type": "code",
   "source": [
    "X_matrix = sp.Matrix([x, y, z, s, t])\n",
    "S_matrix = sp.Matrix([[(-v+u-26)/2],\n",
    "                      [(2*v+19)/2],\n",
    "                      [u],\n",
    "                      [v],\n",
    "                      [7/2]])\n",
    "display(X_matrix)\n",
    "display(S_matrix)\n",
    "eq_matrix = sp.Eq(X_matrix, S_matrix)\n",
    "display(eq_matrix)"
   ],
   "id": "321a44a28f13ad8e",
   "outputs": [
    {
     "data": {
      "text/plain": [
       "Matrix([\n",
       "[x],\n",
       "[y],\n",
       "[z],\n",
       "[s],\n",
       "[t]])"
      ],
      "text/latex": "$\\displaystyle \\left[\\begin{matrix}x\\\\y\\\\z\\\\s\\\\t\\end{matrix}\\right]$"
     },
     "metadata": {},
     "output_type": "display_data"
    },
    {
     "data": {
      "text/plain": [
       "Matrix([\n",
       "[u/2 - v/2 - 13],\n",
       "[      v + 19/2],\n",
       "[             u],\n",
       "[             v],\n",
       "[           3.5]])"
      ],
      "text/latex": "$\\displaystyle \\left[\\begin{matrix}\\frac{u}{2} - \\frac{v}{2} - 13\\\\v + \\frac{19}{2}\\\\u\\\\v\\\\3.5\\end{matrix}\\right]$"
     },
     "metadata": {},
     "output_type": "display_data"
    },
    {
     "data": {
      "text/plain": [
       "Eq(Matrix([\n",
       "[x],\n",
       "[y],\n",
       "[z],\n",
       "[s],\n",
       "[t]]), Matrix([\n",
       "[u/2 - v/2 - 13],\n",
       "[      v + 19/2],\n",
       "[             u],\n",
       "[             v],\n",
       "[           3.5]]))"
      ],
      "text/latex": "$\\displaystyle \\left[\\begin{matrix}x\\\\y\\\\z\\\\s\\\\t\\end{matrix}\\right] = \\left[\\begin{matrix}\\frac{u}{2} - \\frac{v}{2} - 13\\\\v + \\frac{19}{2}\\\\u\\\\v\\\\3.5\\end{matrix}\\right]$"
     },
     "metadata": {},
     "output_type": "display_data"
    }
   ],
   "execution_count": 17
  },
  {
   "metadata": {},
   "cell_type": "markdown",
   "source": "Sprawdzamy, czy wyszedł nam poprawny wynik:",
   "id": "68aed675ebcbd364"
  },
  {
   "metadata": {
    "ExecuteTime": {
     "end_time": "2025-01-26T21:50:10.166868Z",
     "start_time": "2025-01-26T21:50:10.156373Z"
    }
   },
   "cell_type": "code",
   "source": "display(A_matrix*S_matrix)",
   "id": "75863a843d2d064a",
   "outputs": [
    {
     "data": {
      "text/plain": [
       "Matrix([\n",
       "[ 6.0],\n",
       "[11.0],\n",
       "[ 1.0]])"
      ],
      "text/latex": "$\\displaystyle \\left[\\begin{matrix}6.0\\\\11.0\\\\1.0\\end{matrix}\\right]$"
     },
     "metadata": {},
     "output_type": "display_data"
    }
   ],
   "execution_count": 18
  },
  {
   "metadata": {},
   "cell_type": "markdown",
   "source": "W celu zapisania rozwiązania macierzowego zapisujemy wektory rozwiązań od u, v i 1, a następnie je łączymy w macierz rozwiązań i sprawdamy, czy wyszedł nam poprawny wynik:",
   "id": "2ae2324d06a2c643"
  },
  {
   "metadata": {
    "ExecuteTime": {
     "end_time": "2025-01-26T21:50:10.258328Z",
     "start_time": "2025-01-26T21:50:10.208437Z"
    }
   },
   "cell_type": "code",
   "source": [
    "Jednosci_matrix = sp.Matrix([-13, 19/2, 0, 0, 7/2])\n",
    "display(Jednosci_matrix)\n",
    "U_matrix = sp.Matrix([1/2, 0, 1, 0, 0])\n",
    "display(U_matrix)\n",
    "V_matrix = sp.Matrix([-1/2, 1, 0,1, 0])\n",
    "display(V_matrix)\n",
    "X_solution_matrix = sp.Matrix.hstack(Jednosci_matrix, U_matrix, V_matrix)\n",
    "display(X_solution_matrix)\n",
    "display(A_matrix*X_solution_matrix)"
   ],
   "id": "2b2e84dd1fe1915b",
   "outputs": [
    {
     "data": {
      "text/plain": [
       "Matrix([\n",
       "[-13],\n",
       "[9.5],\n",
       "[  0],\n",
       "[  0],\n",
       "[3.5]])"
      ],
      "text/latex": "$\\displaystyle \\left[\\begin{matrix}-13\\\\9.5\\\\0\\\\0\\\\3.5\\end{matrix}\\right]$"
     },
     "metadata": {},
     "output_type": "display_data"
    },
    {
     "data": {
      "text/plain": [
       "Matrix([\n",
       "[0.5],\n",
       "[  0],\n",
       "[  1],\n",
       "[  0],\n",
       "[  0]])"
      ],
      "text/latex": "$\\displaystyle \\left[\\begin{matrix}0.5\\\\0\\\\1\\\\0\\\\0\\end{matrix}\\right]$"
     },
     "metadata": {},
     "output_type": "display_data"
    },
    {
     "data": {
      "text/plain": [
       "Matrix([\n",
       "[-0.5],\n",
       "[   1],\n",
       "[   0],\n",
       "[   1],\n",
       "[   0]])"
      ],
      "text/latex": "$\\displaystyle \\left[\\begin{matrix}-0.5\\\\1\\\\0\\\\1\\\\0\\end{matrix}\\right]$"
     },
     "metadata": {},
     "output_type": "display_data"
    },
    {
     "data": {
      "text/plain": [
       "Matrix([\n",
       "[-13, 0.5, -0.5],\n",
       "[9.5,   0,    1],\n",
       "[  0,   1,    0],\n",
       "[  0,   0,    1],\n",
       "[3.5,   0,    0]])"
      ],
      "text/latex": "$\\displaystyle \\left[\\begin{matrix}-13 & 0.5 & -0.5\\\\9.5 & 0 & 1\\\\0 & 1 & 0\\\\0 & 0 & 1\\\\3.5 & 0 & 0\\end{matrix}\\right]$"
     },
     "metadata": {},
     "output_type": "display_data"
    },
    {
     "data": {
      "text/plain": [
       "Matrix([\n",
       "[ 6.0, 0, 0],\n",
       "[11.0, 0, 0],\n",
       "[ 1.0, 0, 0]])"
      ],
      "text/latex": "$\\displaystyle \\left[\\begin{matrix}6.0 & 0 & 0\\\\11.0 & 0 & 0\\\\1.0 & 0 & 0\\end{matrix}\\right]$"
     },
     "metadata": {},
     "output_type": "display_data"
    }
   ],
   "execution_count": 19
  },
  {
   "metadata": {},
   "cell_type": "markdown",
   "source": [
    "Zad. 8. Dla liczb zespolonych:\n",
    "\n",
    "$z=4+5i, w=7-3i$\n",
    "\n",
    "obliczyć:\n",
    "\n",
    "$z+w, z-w, z\\cdot w, z/w, z^3/w^3$\n",
    "\n",
    "Zapisujemy te dwie liczby, a następnie wykonujemy na nich działnia:"
   ],
   "id": "460959db811ac689"
  },
  {
   "metadata": {
    "ExecuteTime": {
     "end_time": "2025-01-26T21:50:10.595389Z",
     "start_time": "2025-01-26T21:50:10.280338Z"
    }
   },
   "cell_type": "code",
   "source": [
    "z_complex = 4+5*I\n",
    "w_complex = 7-3*I\n",
    "display(z_complex)\n",
    "display(w_complex)\n",
    "suma_z = (z_complex+w_complex)\n",
    "display(suma_z)\n",
    "roznica_z = (z_complex-w_complex)\n",
    "display(roznica_z)\n",
    "iloczyn_z = sp.simplify(z_complex*w_complex)\n",
    "display(iloczyn_z)\n",
    "iloraz_z = sp.simplify(z_complex/w_complex)\n",
    "display(iloraz_z)\n",
    "potega_iloraz_z = sp.simplify(z_complex**3/w_complex**3)\n",
    "display(potega_iloraz_z)"
   ],
   "id": "a17321de9618831f",
   "outputs": [
    {
     "data": {
      "text/plain": [
       "4 + 5*I"
      ],
      "text/latex": "$\\displaystyle 4 + 5 i$"
     },
     "metadata": {},
     "output_type": "display_data"
    },
    {
     "data": {
      "text/plain": [
       "7 - 3*I"
      ],
      "text/latex": "$\\displaystyle 7 - 3 i$"
     },
     "metadata": {},
     "output_type": "display_data"
    },
    {
     "data": {
      "text/plain": [
       "11 + 2*I"
      ],
      "text/latex": "$\\displaystyle 11 + 2 i$"
     },
     "metadata": {},
     "output_type": "display_data"
    },
    {
     "data": {
      "text/plain": [
       "-3 + 8*I"
      ],
      "text/latex": "$\\displaystyle -3 + 8 i$"
     },
     "metadata": {},
     "output_type": "display_data"
    },
    {
     "data": {
      "text/plain": [
       "43 + 23*I"
      ],
      "text/latex": "$\\displaystyle 43 + 23 i$"
     },
     "metadata": {},
     "output_type": "display_data"
    },
    {
     "data": {
      "text/plain": [
       "13/58 + 47*I/58"
      ],
      "text/latex": "$\\displaystyle \\frac{13}{58} + \\frac{47 i}{58}$"
     },
     "metadata": {},
     "output_type": "display_data"
    },
    {
     "data": {
      "text/plain": [
       "-41977/97556 - 39997*I/97556"
      ],
      "text/latex": "$\\displaystyle - \\frac{41977}{97556} - \\frac{39997 i}{97556}$"
     },
     "metadata": {},
     "output_type": "display_data"
    }
   ],
   "execution_count": 20
  },
  {
   "metadata": {},
   "cell_type": "markdown",
   "source": "Zad. 9. Dla macierzy\n",
   "id": "8885823e58868ef"
  },
  {
   "metadata": {
    "ExecuteTime": {
     "end_time": "2025-01-26T21:50:10.697020Z",
     "start_time": "2025-01-26T21:50:10.637825Z"
    }
   },
   "cell_type": "code",
   "source": [
    "A_matrix = sp.Matrix([[24, -7],\n",
    "                      [7, 24]\n",
    "                      ])\n",
    "A = sp.MatrixSymbol('A', 2, 2)\n",
    "display(sp.Eq(A,A_matrix))"
   ],
   "id": "84bc4c4658e4db30",
   "outputs": [
    {
     "data": {
      "text/plain": [
       "Eq(A, Matrix([\n",
       "[24, -7],\n",
       "[ 7, 24]]))"
      ],
      "text/latex": "$\\displaystyle A = \\left[\\begin{matrix}24 & -7\\\\7 & 24\\end{matrix}\\right]$"
     },
     "metadata": {},
     "output_type": "display_data"
    }
   ],
   "execution_count": 21
  },
  {
   "metadata": {},
   "cell_type": "markdown",
   "source": [
    "Obliczyć pierwiastki kwadratowe z jej wartości własnych.\n",
    "\n",
    "Korzystamy ze wcześniej zdefiniowanej funkcji i wyliczyamy wielomian charakterystyczny macierzy:"
   ],
   "id": "646d04da1caf6bfe"
  },
  {
   "metadata": {
    "ExecuteTime": {
     "end_time": "2025-01-26T21:50:10.759269Z",
     "start_time": "2025-01-26T21:50:10.747183Z"
    }
   },
   "cell_type": "code",
   "source": [
    "polynomial_A = characteristic_polynomial(A_matrix)\n",
    "display(polynomial_A)\n"
   ],
   "id": "3f824fd294e65526",
   "outputs": [
    {
     "data": {
      "text/plain": [
       "<IPython.core.display.Math object>"
      ],
      "text/latex": "$\\displaystyle \\left[\\begin{matrix}24 - \\lambda & -7\\\\7 & 24 - \\lambda\\end{matrix}\\right]$"
     },
     "metadata": {},
     "output_type": "display_data"
    },
    {
     "data": {
      "text/plain": [
       "\\lambda**2 - 48*\\lambda + 625"
      ],
      "text/latex": "$\\displaystyle \\lambda^{2} - 48 \\lambda + 625$"
     },
     "metadata": {},
     "output_type": "display_data"
    }
   ],
   "execution_count": 22
  },
  {
   "metadata": {},
   "cell_type": "markdown",
   "source": "Znajdujemy wartości własne macierzy A, przyrównując wielomian charakterystyczny do zera:",
   "id": "c680b21df63b4a72"
  },
  {
   "metadata": {
    "ExecuteTime": {
     "end_time": "2025-01-26T21:50:10.878647Z",
     "start_time": "2025-01-26T21:50:10.805611Z"
    }
   },
   "cell_type": "code",
   "source": [
    "eq_p_A = sp.Eq(polynomial_A, 0)\n",
    "eq_p_A_sol = sp.solve(eq_p_A)\n",
    "display(eq_p_A_sol)\n",
    "def test_wyniku(eq_p_A_sol):\n",
    "    for solution in eq_p_A_sol:\n",
    "        result = solution**2 - 48 * solution + 625\n",
    "        display(sp.simplify(result))\n",
    "test_wyniku(eq_p_A_sol)"
   ],
   "id": "358c10ae80de041e",
   "outputs": [
    {
     "data": {
      "text/plain": [
       "[24 - 7*I, 24 + 7*I]"
      ]
     },
     "metadata": {},
     "output_type": "display_data"
    },
    {
     "data": {
      "text/plain": [
       "0"
      ],
      "text/latex": "$\\displaystyle 0$"
     },
     "metadata": {},
     "output_type": "display_data"
    },
    {
     "data": {
      "text/plain": [
       "0"
      ],
      "text/latex": "$\\displaystyle 0$"
     },
     "metadata": {},
     "output_type": "display_data"
    }
   ],
   "execution_count": 23
  },
  {
   "metadata": {},
   "cell_type": "markdown",
   "source": [
    "W celu obliczenia pierwiastków kwadratowych wartości własnych możemy skorzystać z układu równań. Wiemy, że podnosząc liczbę zespoloną do kwadratu, otrzymujemy:\n",
    "\n",
    "$$\n",
    "(a+bi)^2 = a^2 - b^2 + 2ab i\n",
    "$$\n",
    "\n",
    "Oznacza to, że $a^2 - b^2$ musi być równe części rzeczywistej naszych wartości własnych, a $2ab$ części urojonej. Oznacza to, że dla $\\lambda_1 = 24-7i$ musimy zapisać i rozwiązać następujący układ równań:\n",
    "\n",
    "$$\n",
    "\\begin{cases}\n",
    "a^2 - b^2 = 24\\\\\n",
    "2ab = -7\n",
    "\\end{cases}\n",
    "$$\n",
    "\n",
    "Natomiast dla $\\lambda_2 = 24+7i$ musimy zapisać i rozwiązać:\n",
    "\n",
    "$$\n",
    "\\begin{cases}\n",
    "a^2 - b^2 = 24\\\\\n",
    "2ab = 7\n",
    "\\end{cases}\n",
    "$$\n",
    "\n",
    "Gdzie a i b są rzeczywiste. Rozwiązujemy więc:"
   ],
   "id": "1429ff66c7dac3aa"
  },
  {
   "metadata": {
    "ExecuteTime": {
     "end_time": "2025-01-26T21:50:11.056365Z",
     "start_time": "2025-01-26T21:50:10.982899Z"
    }
   },
   "cell_type": "code",
   "source": [
    "a_r, b_r = sp.symbols('a_r b_r', real=True)\n",
    "def pierwiastki_kwadratowe(eq_1, eq_2,numer):\n",
    "    solutions = sp.solve((eq_11, eq_12), (a_r, b_r))\n",
    "    for i, solution in enumerate(solutions):\n",
    "        if solution[1] > 0:\n",
    "            display(Math(f'\\\\sqrt{{\\\\lambda_{numer}}}'\n",
    "                         +'='\n",
    "                         + f'w_{i+1}'\n",
    "                         +'='\n",
    "                         +sp.latex(solution[0])\n",
    "                         +'+'\n",
    "                         +sp.latex(solution[1])\n",
    "                         +'i'))\n",
    "        else:\n",
    "            display(Math(f'\\\\sqrt{{\\\\lambda_{numer}}}'\n",
    "                         +'='\n",
    "                         + f'w_{i+1}'\n",
    "                         +'='\n",
    "                         +sp.latex(solution[0])\n",
    "                         +sp.latex(solution[1])\n",
    "                         +'i'))\n",
    "print(\"Pierwsza \")\n",
    "eq_11 = sp.Eq(a_r**2 - b_r**2, 24)\n",
    "eq_12 = sp.Eq(2*a_r*b_r, -7)\n",
    "pierwiastki_kwadratowe(eq_11, eq_12, 1)\n",
    "eq_21 = sp.Eq(a_r**2 - b_r**2, 24)\n",
    "eq_22 = sp.Eq(2*a_r*b_r, 7)\n",
    "pierwiastki_kwadratowe(eq_21, eq_22, 2)"
   ],
   "id": "65a1f5735a7c7e70",
   "outputs": [
    {
     "name": "stdout",
     "output_type": "stream",
     "text": [
      "Pierwsza \n"
     ]
    },
    {
     "data": {
      "text/plain": [
       "<IPython.core.display.Math object>"
      ],
      "text/latex": "$\\displaystyle \\sqrt{\\lambda_1}=w_1=- \\frac{7 \\sqrt{2}}{2}+\\frac{\\sqrt{2}}{2}i$"
     },
     "metadata": {},
     "output_type": "display_data"
    },
    {
     "data": {
      "text/plain": [
       "<IPython.core.display.Math object>"
      ],
      "text/latex": "$\\displaystyle \\sqrt{\\lambda_1}=w_2=\\frac{7 \\sqrt{2}}{2}- \\frac{\\sqrt{2}}{2}i$"
     },
     "metadata": {},
     "output_type": "display_data"
    },
    {
     "data": {
      "text/plain": [
       "<IPython.core.display.Math object>"
      ],
      "text/latex": "$\\displaystyle \\sqrt{\\lambda_2}=w_1=- \\frac{7 \\sqrt{2}}{2}+\\frac{\\sqrt{2}}{2}i$"
     },
     "metadata": {},
     "output_type": "display_data"
    },
    {
     "data": {
      "text/plain": [
       "<IPython.core.display.Math object>"
      ],
      "text/latex": "$\\displaystyle \\sqrt{\\lambda_2}=w_2=\\frac{7 \\sqrt{2}}{2}- \\frac{\\sqrt{2}}{2}i$"
     },
     "metadata": {},
     "output_type": "display_data"
    }
   ],
   "execution_count": 24
  },
  {
   "metadata": {},
   "cell_type": "markdown",
   "source": "Zad. 10.",
   "id": "a50c6ecb4d942f61"
  },
  {
   "metadata": {
    "ExecuteTime": {
     "end_time": "2025-01-26T21:50:11.328091Z",
     "start_time": "2025-01-26T21:50:11.082376Z"
    }
   },
   "cell_type": "code",
   "source": [
    "# podać wartości własne, odpowiadające im wektory wlasne i diagonalizację dla macierzy\n",
    "\n",
    "A = sp.Matrix([\n",
    "    [1, -1,-1],\n",
    "     [1, 1, 0],\n",
    "      [3, 0, 1],\n",
    "    ])\n",
    "\n",
    "char_poly = characteristic_polynomial(A)\n",
    "\n",
    "# przyrównaj wielomian charakterystyczny do 0 otrzymując wartości własne\n",
    "eigenvals = sp.solve(sp.Eq(char_poly.as_expr(), 0))\n",
    "display(eigenvals)\n",
    "\n",
    "# znajdź wektory własne\n",
    "eigenvectors = []\n",
    "for val in eigenvals:\n",
    "  M = A - val * sp.eye(A.shape[0])\n",
    "  display(M)\n",
    "  x,y,z,u = sp.symbols('x,y,z,u')\n",
    "  E = M*sp.Matrix([[x],[y],[z]])\n",
    "  display(E)\n",
    "  eq1 = sp.Eq(E[0,0],0)\n",
    "  eq2 = sp.Eq(E[1,0],0)\n",
    "  eq3 = sp.Eq(E[2,0],0)\n",
    "  eq4 = sp.Eq(u,z)\n",
    "  # wektor własy zależy od parametru 'u'\n",
    "  r = sp.solve((eq1,eq2,eq3,eq4),(x,y,z))\n",
    "  eigenvectors.append(r)\n",
    "  display(r)\n",
    "  print('___________________________\\n')\n",
    "\n",
    "\n",
    "B = sp.Matrix()\n",
    "for i, v in enumerate(eigenvectors):\n",
    "  B = B.col_insert(i, sp.Matrix([x for x in v.values()]))\n",
    "\n",
    "display(B)\n",
    "\n",
    "# diagonalizacje\n",
    "B_inv = B.inv()\n",
    "D_1 = B*A*B_inv\n",
    "D_1 = D_1.applyfunc(sp.expand)\n",
    "D_2 = B_inv*A*B\n",
    "D_2 = D_2.applyfunc(sp.expand) # ten expand kosztował mnie godzinę życia zanim zrozumiałem że wychodzi źle, bo i^2 się nie upraszcza...\n",
    "display(D_1)\n",
    "display(D_2)\n",
    "\n",
    "# D_2 jest diagonalna - sprawdzam:\n",
    "display((B*D_2*B_inv).applyfunc(sp.expand) == A)"
   ],
   "id": "bae012ca6718ac81",
   "outputs": [
    {
     "data": {
      "text/plain": [
       "<IPython.core.display.Math object>"
      ],
      "text/latex": "$\\displaystyle \\left[\\begin{matrix}1 - \\lambda & -1 & -1\\\\1 & 1 - \\lambda & 0\\\\3 & 0 & 1 - \\lambda\\end{matrix}\\right]$"
     },
     "metadata": {},
     "output_type": "display_data"
    },
    {
     "data": {
      "text/plain": [
       "[1, 1 - 2*I, 1 + 2*I]"
      ]
     },
     "metadata": {},
     "output_type": "display_data"
    },
    {
     "data": {
      "text/plain": [
       "Matrix([\n",
       "[0, -1, -1],\n",
       "[1,  0,  0],\n",
       "[3,  0,  0]])"
      ],
      "text/latex": "$\\displaystyle \\left[\\begin{matrix}0 & -1 & -1\\\\1 & 0 & 0\\\\3 & 0 & 0\\end{matrix}\\right]$"
     },
     "metadata": {},
     "output_type": "display_data"
    },
    {
     "data": {
      "text/plain": [
       "Matrix([\n",
       "[-y - z],\n",
       "[     x],\n",
       "[   3*x]])"
      ],
      "text/latex": "$\\displaystyle \\left[\\begin{matrix}- y - z\\\\x\\\\3 x\\end{matrix}\\right]$"
     },
     "metadata": {},
     "output_type": "display_data"
    },
    {
     "data": {
      "text/plain": [
       "{x: 0, y: -u, z: u}"
      ]
     },
     "metadata": {},
     "output_type": "display_data"
    },
    {
     "name": "stdout",
     "output_type": "stream",
     "text": [
      "___________________________\n",
      "\n"
     ]
    },
    {
     "data": {
      "text/plain": [
       "Matrix([\n",
       "[2*I,  -1,  -1],\n",
       "[  1, 2*I,   0],\n",
       "[  3,   0, 2*I]])"
      ],
      "text/latex": "$\\displaystyle \\left[\\begin{matrix}2 i & -1 & -1\\\\1 & 2 i & 0\\\\3 & 0 & 2 i\\end{matrix}\\right]$"
     },
     "metadata": {},
     "output_type": "display_data"
    },
    {
     "data": {
      "text/plain": [
       "Matrix([\n",
       "[2*I*x - y - z],\n",
       "[    x + 2*I*y],\n",
       "[  3*x + 2*I*z]])"
      ],
      "text/latex": "$\\displaystyle \\left[\\begin{matrix}2 i x - y - z\\\\x + 2 i y\\\\3 x + 2 i z\\end{matrix}\\right]$"
     },
     "metadata": {},
     "output_type": "display_data"
    },
    {
     "data": {
      "text/plain": [
       "{x: -2*I*u/3, y: u/3, z: u}"
      ]
     },
     "metadata": {},
     "output_type": "display_data"
    },
    {
     "name": "stdout",
     "output_type": "stream",
     "text": [
      "___________________________\n",
      "\n"
     ]
    },
    {
     "data": {
      "text/plain": [
       "Matrix([\n",
       "[-2*I,   -1,   -1],\n",
       "[   1, -2*I,    0],\n",
       "[   3,    0, -2*I]])"
      ],
      "text/latex": "$\\displaystyle \\left[\\begin{matrix}- 2 i & -1 & -1\\\\1 & - 2 i & 0\\\\3 & 0 & - 2 i\\end{matrix}\\right]$"
     },
     "metadata": {},
     "output_type": "display_data"
    },
    {
     "data": {
      "text/plain": [
       "Matrix([\n",
       "[-2*I*x - y - z],\n",
       "[     x - 2*I*y],\n",
       "[   3*x - 2*I*z]])"
      ],
      "text/latex": "$\\displaystyle \\left[\\begin{matrix}- 2 i x - y - z\\\\x - 2 i y\\\\3 x - 2 i z\\end{matrix}\\right]$"
     },
     "metadata": {},
     "output_type": "display_data"
    },
    {
     "data": {
      "text/plain": [
       "{x: 2*I*u/3, y: u/3, z: u}"
      ]
     },
     "metadata": {},
     "output_type": "display_data"
    },
    {
     "name": "stdout",
     "output_type": "stream",
     "text": [
      "___________________________\n",
      "\n"
     ]
    },
    {
     "data": {
      "text/plain": [
       "Matrix([\n",
       "[ 0, -2*I*u/3, 2*I*u/3],\n",
       "[-u,      u/3,     u/3],\n",
       "[ u,        u,       u]])"
      ],
      "text/latex": "$\\displaystyle \\left[\\begin{matrix}0 & - \\frac{2 i u}{3} & \\frac{2 i u}{3}\\\\- u & \\frac{u}{3} & \\frac{u}{3}\\\\u & u & u\\end{matrix}\\right]$"
     },
     "metadata": {},
     "output_type": "display_data"
    },
    {
     "data": {
      "text/plain": [
       "Matrix([\n",
       "[1,    -I,   I/3],\n",
       "[0,   3/4, 13/12],\n",
       "[0, -15/4,   5/4]])"
      ],
      "text/latex": "$\\displaystyle \\left[\\begin{matrix}1 & - i & \\frac{i}{3}\\\\0 & \\frac{3}{4} & \\frac{13}{12}\\\\0 & - \\frac{15}{4} & \\frac{5}{4}\\end{matrix}\\right]$"
     },
     "metadata": {},
     "output_type": "display_data"
    },
    {
     "data": {
      "text/plain": [
       "Matrix([\n",
       "[1,       0,       0],\n",
       "[0, 1 - 2*I,       0],\n",
       "[0,       0, 1 + 2*I]])"
      ],
      "text/latex": "$\\displaystyle \\left[\\begin{matrix}1 & 0 & 0\\\\0 & 1 - 2 i & 0\\\\0 & 0 & 1 + 2 i\\end{matrix}\\right]$"
     },
     "metadata": {},
     "output_type": "display_data"
    },
    {
     "data": {
      "text/plain": [
       "True"
      ]
     },
     "metadata": {},
     "output_type": "display_data"
    }
   ],
   "execution_count": 25
  }
 ],
 "metadata": {
  "kernelspec": {
   "display_name": "Python 3 (ipykernel)",
   "language": "python",
   "name": "python3"
  },
  "language_info": {
   "codemirror_mode": {
    "name": "ipython",
    "version": 3
   },
   "file_extension": ".py",
   "mimetype": "text/x-python",
   "name": "python",
   "nbconvert_exporter": "python",
   "pygments_lexer": "ipython3",
   "version": "3.12.8"
  }
 },
 "nbformat": 4,
 "nbformat_minor": 5
}
