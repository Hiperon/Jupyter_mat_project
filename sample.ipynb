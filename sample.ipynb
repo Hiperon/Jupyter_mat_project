{
 "cells": [
  {
   "cell_type": "code",
   "id": "e78e50b5a128b12e",
   "metadata": {
    "ExecuteTime": {
     "end_time": "2025-01-21T22:16:20.525607Z",
     "start_time": "2025-01-21T22:16:20.502819Z"
    }
   },
   "source": [
    "import sympy as sp\n",
    "from sympy import I\n",
    "import numpy as np\n",
    "from IPython.display import display, Math"
   ],
   "outputs": [],
   "execution_count": 25
  },
  {
   "cell_type": "markdown",
   "id": "5728c9d36f44a731",
   "metadata": {},
   "source": [
    "Zad 2. Zbadać ilość cyfr poniższej liczby $x^p$ w zależności od podstawy g:\n",
    "\n"
   ]
  },
  {
   "cell_type": "code",
   "id": "661c82603be3e3d0",
   "metadata": {
    "ExecuteTime": {
     "end_time": "2025-01-21T22:16:20.738996Z",
     "start_time": "2025-01-21T22:16:20.728195Z"
    }
   },
   "source": [
    "x_int = 1236987654321234578\n",
    "p = 3"
   ],
   "outputs": [],
   "execution_count": 26
  },
  {
   "cell_type": "markdown",
   "id": "b639bc812e75b752",
   "metadata": {},
   "source": [
    "Stosujemy wzór $n = 1 + \\lfloor \\log_g(x) \\rfloor$\n",
    "Dodatkowo, ponieważ liczba $x$ jest podniesiona do potęgi, nie chemy też korzystać z funkcji logarytmów, w których sami ustalimy podstawę, przekształcamy ten wzór, korzystając z praw działania na potęgach:\n",
    "$n = 1 + \\lfloor \\ log_g (x^p) \\rfloor\n",
    "   = 1 + \\lfloor p \\log_g(x) \\rfloor\n",
    "   = 1 + \\left\\lfloor p \\dfrac {\\log(x)} {\\log(p)} \\right\\rfloor $\n"
   ]
  },
  {
   "cell_type": "code",
   "id": "38f27aeefb028588",
   "metadata": {
    "ExecuteTime": {
     "end_time": "2025-01-21T22:16:20.762459Z",
     "start_time": "2025-01-21T22:16:20.750998Z"
    }
   },
   "source": [
    "def count_digit(liczba, podstawa, power):\n",
    "    digit_number = 1 + sp.floor (power * np.log (liczba) / np.log (podstawa))\n",
    "    return digit_number\n",
    "for g in range(2,11):\n",
    "    print(\"Zapis z podstawą g=\",g,\"dla x=\" ,x_int, \"do potęgi p= \",p, \"ma:\", count_digit(x_int,g,p), \"cyfr\")"
   ],
   "outputs": [
    {
     "name": "stdout",
     "output_type": "stream",
     "text": [
      "Zapis z podstawą g= 2 dla x= 1236987654321234578 do potęgi p=  3 ma: 181 cyfr\n",
      "Zapis z podstawą g= 3 dla x= 1236987654321234578 do potęgi p=  3 ma: 114 cyfr\n",
      "Zapis z podstawą g= 4 dla x= 1236987654321234578 do potęgi p=  3 ma: 91 cyfr\n",
      "Zapis z podstawą g= 5 dla x= 1236987654321234578 do potęgi p=  3 ma: 78 cyfr\n",
      "Zapis z podstawą g= 6 dla x= 1236987654321234578 do potęgi p=  3 ma: 70 cyfr\n",
      "Zapis z podstawą g= 7 dla x= 1236987654321234578 do potęgi p=  3 ma: 65 cyfr\n",
      "Zapis z podstawą g= 8 dla x= 1236987654321234578 do potęgi p=  3 ma: 61 cyfr\n",
      "Zapis z podstawą g= 9 dla x= 1236987654321234578 do potęgi p=  3 ma: 57 cyfr\n",
      "Zapis z podstawą g= 10 dla x= 1236987654321234578 do potęgi p=  3 ma: 55 cyfr\n"
     ]
    }
   ],
   "execution_count": 27
  },
  {
   "metadata": {},
   "cell_type": "markdown",
   "source": [
    "Zad. 3. Rozwiązać równania:\n",
    "- a) $g(x) = 5x^3 + 4x^2 - 26x + 5 = 0$\n",
    "- b) $h(x) = 5x^4 + 29x^3 + 34x^2 + 23x + 3 = 0$"
   ],
   "id": "eaf2206db79a8472"
  },
  {
   "metadata": {
    "ExecuteTime": {
     "end_time": "2025-01-21T22:16:20.816621Z",
     "start_time": "2025-01-21T22:16:20.804317Z"
    }
   },
   "cell_type": "code",
   "source": [
    "x = sp.Symbol('x')\n",
    "polynomial_g=sp.Poly(5*x**3 + 4*x**2 - 26*x + 5,x)\n",
    "polynomial_h=sp.Poly(5*x**4 + 29*x**3 + 34*x**2 - 23*x + 3,x)"
   ],
   "id": "a69be352382f3b6",
   "outputs": [],
   "execution_count": 28
  },
  {
   "metadata": {},
   "cell_type": "markdown",
   "source": [
    "Zad. 4. Rozwiąż nierówność $f(x) = \\dfrac {g(x)} {h(x)} > 0$ gzie $ g(x) $ i $ h(x) $ są wielomianami z zadania 3.\n",
    "\n",
    "W tym celu najpierw mnożymy wielomiany:"
   ],
   "id": "78cd98ed452fe028"
  },
  {
   "metadata": {
    "ExecuteTime": {
     "end_time": "2025-01-21T22:16:20.907273Z",
     "start_time": "2025-01-21T22:16:20.869364Z"
    }
   },
   "cell_type": "code",
   "source": [
    "polynomial_f = (polynomial_g*polynomial_h)  # Mnożę. Z jakiegoś powodu sympy dla wielomianów\n",
    "                                            # nie wymaga ekspansji wyniku. Reszta kodu to\n",
    "                                            # ładny zapis\n",
    "disp_fx = polynomial_f.as_expr()\n",
    "f = sp.Function('fm')(x)\n",
    "eq_fx = sp.Eq(f, disp_fx)\n",
    "display(eq_fx)"
   ],
   "id": "d740c85ec92994bd",
   "outputs": [
    {
     "data": {
      "text/plain": [
       "Eq(fm(x), 25*x**7 + 165*x**6 + 156*x**5 - 708*x**4 - 816*x**3 + 780*x**2 - 193*x + 15)"
      ],
      "text/latex": "$\\displaystyle \\operatorname{fm}{\\left(x \\right)} = 25 x^{7} + 165 x^{6} + 156 x^{5} - 708 x^{4} - 816 x^{3} + 780 x^{2} - 193 x + 15$"
     },
     "metadata": {},
     "output_type": "display_data"
    }
   ],
   "execution_count": 29
  },
  {
   "metadata": {},
   "cell_type": "markdown",
   "source": "Następnie znajdujemy jego pierwiastki i ustawiamy je w kolejności od najmniejszego",
   "id": "456e4f7052014d37"
  },
  {
   "metadata": {
    "ExecuteTime": {
     "end_time": "2025-01-21T22:16:21.177251Z",
     "start_time": "2025-01-21T22:16:21.089558Z"
    }
   },
   "cell_type": "code",
   "source": [
    "roots_fx = sp.roots(polynomial_f)   #Tutaj liczę pierwiastki, cała reszta\n",
    "sorted_roots_fx = dict(sorted(roots_fx.items()))  #Tutaj sortuję\n",
    "for root, count in sorted_roots_fx.items():\n",
    "    latex_root = sp.latex(root)\n",
    "    latex_count = sp.latex(count)\n",
    "    latex_output = ('\\\\text{Pierwiastek: }'\n",
    "                    + latex_root\n",
    "                    + '\\\\text{ pojawił sie: }'\n",
    "                    + latex_count\n",
    "                    + '\\\\text{ razy.}')\n",
    "    display(Math(latex_output))"
   ],
   "id": "65bb69ee7724a8d5",
   "outputs": [
    {
     "data": {
      "text/plain": [
       "<IPython.core.display.Math object>"
      ],
      "text/latex": "$\\displaystyle \\text{Pierwiastek: }- \\frac{\\sqrt{13}}{2} - \\frac{3}{2}\\text{ pojawił sie: }1\\text{ razy.}$"
     },
     "metadata": {},
     "output_type": "display_data"
    },
    {
     "data": {
      "text/plain": [
       "<IPython.core.display.Math object>"
      ],
      "text/latex": "$\\displaystyle \\text{Pierwiastek: }-3\\text{ pojawił sie: }1\\text{ razy.}$"
     },
     "metadata": {},
     "output_type": "display_data"
    },
    {
     "data": {
      "text/plain": [
       "<IPython.core.display.Math object>"
      ],
      "text/latex": "$\\displaystyle \\text{Pierwiastek: }- \\frac{\\sqrt{21}}{2} - \\frac{1}{2}\\text{ pojawił sie: }1\\text{ razy.}$"
     },
     "metadata": {},
     "output_type": "display_data"
    },
    {
     "data": {
      "text/plain": [
       "<IPython.core.display.Math object>"
      ],
      "text/latex": "$\\displaystyle \\text{Pierwiastek: }\\frac{1}{5}\\text{ pojawił sie: }2\\text{ razy.}$"
     },
     "metadata": {},
     "output_type": "display_data"
    },
    {
     "data": {
      "text/plain": [
       "<IPython.core.display.Math object>"
      ],
      "text/latex": "$\\displaystyle \\text{Pierwiastek: }- \\frac{3}{2} + \\frac{\\sqrt{13}}{2}\\text{ pojawił sie: }1\\text{ razy.}$"
     },
     "metadata": {},
     "output_type": "display_data"
    },
    {
     "data": {
      "text/plain": [
       "<IPython.core.display.Math object>"
      ],
      "text/latex": "$\\displaystyle \\text{Pierwiastek: }- \\frac{1}{2} + \\frac{\\sqrt{21}}{2}\\text{ pojawił sie: }1\\text{ razy.}$"
     },
     "metadata": {},
     "output_type": "display_data"
    }
   ],
   "execution_count": 30
  },
  {
   "metadata": {},
   "cell_type": "markdown",
   "source": [
    "**UWAGA**, korzystam z metody innej niż w przykładzie (licealnej). Mogę z niej skorzystać, ponieważ mam informację o ilości pierwiastków. Wielomian jest siódmego poziomu, dlatego dla niskich x-ów jest ujemny. Następnie zmienia znak przy każdym miejscu zerowym, poza miejscem parzystym. Oczywiście znak ilorazu, który mieliśmy określić, jest taki sam jak wielomianu, który badaliśmy, możemy więc zapisać:\n",
    "\n",
    "$f(x) = \\dfrac {g(x)} {h(x)} > 0 \\text{ dla } x\n",
    "\\in \\left(-\\dfrac{\\sqrt{13}}{2}-\\dfrac{3}{2}; -3\\right)\n",
    "\\cup \\left(-\\dfrac{\\sqrt{21}}{2}-\\dfrac{1}{2}; \\dfrac{1}{5}\\right)\n",
    "\\cup \\left(\\dfrac{1}{5}; \\dfrac{\\sqrt{13}}{2}-\\dfrac{3}{2}\\right)\n",
    "\\cup \\left(\\dfrac{\\sqrt{21}}{2}-\\dfrac{1}{2}; +\\infty\\right)$\n"
   ],
   "id": "3c5717e5f7a3b06f"
  },
  {
   "metadata": {},
   "cell_type": "markdown",
   "source": [
    "Zad. 6.\n",
    "- a) Obliczyć rząd macierzy **A**\n",
    "- b) Przy pomocy wielomianu charakterystycznego macierzy **A**, znaleźć macierz **B** taką, że $\\mathbf{A}\\cdot\\mathbf{B} = \\mathbf{B}\\cdot\\mathbf{A} = 0$"
   ],
   "id": "a6df3c8fb52af07e"
  },
  {
   "metadata": {},
   "cell_type": "markdown",
   "source": "Zapisujemy macierz i obliczamy jej rząd macierzy:",
   "id": "7518e5d98b89209f"
  },
  {
   "metadata": {
    "ExecuteTime": {
     "end_time": "2025-01-21T22:16:21.238980Z",
     "start_time": "2025-01-21T22:16:21.223729Z"
    }
   },
   "cell_type": "code",
   "source": [
    "A_matrix = sp.Matrix([[-1, -2, -3, -4],\n",
    "                      [3, 2, 1, 0],\n",
    "                      [4, 4, 4, 9],\n",
    "                      [4, 0, -4, 2]])\n",
    "display(A_matrix)\n",
    "print(\"Rząd macierzy A wynosi:\", A_matrix.rank())"
   ],
   "id": "e44fa0aba81fc11b",
   "outputs": [
    {
     "data": {
      "text/plain": [
       "Matrix([\n",
       "[-1, -2, -3, -4],\n",
       "[ 3,  2,  1,  0],\n",
       "[ 4,  4,  4,  9],\n",
       "[ 4,  0, -4,  2]])"
      ],
      "text/latex": "$\\displaystyle \\left[\\begin{matrix}-1 & -2 & -3 & -4\\\\3 & 2 & 1 & 0\\\\4 & 4 & 4 & 9\\\\4 & 0 & -4 & 2\\end{matrix}\\right]$"
     },
     "metadata": {},
     "output_type": "display_data"
    },
    {
     "name": "stdout",
     "output_type": "stream",
     "text": [
      "Rząd macierzy A wynosi: 3\n"
     ]
    }
   ],
   "execution_count": 31
  },
  {
   "metadata": {},
   "cell_type": "markdown",
   "source": "Przygotowujemy funkcję wyliczającą wielomian charakterystyczny. Możemy też oczywiście skorzystać z funkcji bibliotecznej i zrobimy to do sprawdzenia wyniku. Normalnie chcemy jednak zrobić wszystko krok po kroku, żeby lepiej zrozumieć, co robimy.",
   "id": "4d061022bb2e9fc1"
  },
  {
   "metadata": {
    "ExecuteTime": {
     "end_time": "2025-01-21T22:16:21.438040Z",
     "start_time": "2025-01-21T22:16:21.328160Z"
    }
   },
   "cell_type": "code",
   "source": [
    "def characteristic_polynomial(matrix):\n",
    "    size = matrix.shape[0]\n",
    "    lambda_latex = sp.Symbol('\\\\lambda')\n",
    "    matrix_lambda = matrix - lambda_latex * sp.eye(size)\n",
    "    display(Math(sp.latex(matrix_lambda)))\n",
    "    characteristic_polynomial = matrix_lambda.det()\n",
    "    return characteristic_polynomial\n",
    "\n",
    "A_poly = characteristic_polynomial(A_matrix)\n",
    "display(A_poly)\n",
    "print(\"Sprawdźmy, czy funkcja biblioteczna daje nam ten sam wynik:\")\n",
    "display(A_matrix.charpoly().as_expr())"
   ],
   "id": "3e7c171583c0c3b2",
   "outputs": [
    {
     "data": {
      "text/plain": [
       "<IPython.core.display.Math object>"
      ],
      "text/latex": "$\\displaystyle \\left[\\begin{matrix}- \\lambda - 1 & -2 & -3 & -4\\\\3 & 2 - \\lambda & 1 & 0\\\\4 & 4 & 4 - \\lambda & 9\\\\4 & 0 & -4 & 2 - \\lambda\\end{matrix}\\right]$"
     },
     "metadata": {},
     "output_type": "display_data"
    },
    {
     "data": {
      "text/plain": [
       "\\lambda**4 - 7*\\lambda**3 + 78*\\lambda**2 - 120*\\lambda"
      ],
      "text/latex": "$\\displaystyle \\lambda^{4} - 7 \\lambda^{3} + 78 \\lambda^{2} - 120 \\lambda$"
     },
     "metadata": {},
     "output_type": "display_data"
    },
    {
     "name": "stdout",
     "output_type": "stream",
     "text": [
      "Sprawdźmy, czy funkcja biblioteczna daje nam ten sam wynik:\n"
     ]
    },
    {
     "data": {
      "text/plain": [
       "lambda**4 - 7*lambda**3 + 78*lambda**2 - 120*lambda"
      ],
      "text/latex": "$\\displaystyle \\lambda^{4} - 7 \\lambda^{3} + 78 \\lambda^{2} - 120 \\lambda$"
     },
     "metadata": {},
     "output_type": "display_data"
    }
   ],
   "execution_count": 32
  },
  {
   "metadata": {},
   "cell_type": "markdown",
   "source": [
    "Możemy teraz stworzyć funkcję, wielomian charakterystyczny pozwala nam zapisać:\n",
    "\n",
    "$\\varphi (\\lambda) = \\lambda^4 -7\\lambda^3 +78\\lambda^2 -120\\lambda = 0$\n",
    "\n",
    "I na mocy twierdzenia Cayley'a-Hamiltona:\n",
    "\n",
    "$\\varphi (\\mathbf{A}) = 0$\n",
    "\n",
    "Czyli\n",
    "\n",
    "$\\varphi (\\mathbf{A}) = \\mathbf{A}^4 -7\\mathbf{A}^3 +78\\mathbf{A}^2 -120\\mathbf{A} = 0$\n",
    "\n",
    "Przekształcamy równanie macierzowe, wyciągając **A** przed nawias. Wtedy A, przemnożone przez to, co jest w nawiasie, będzie równe zero, a tego szukamy:\n",
    "\n",
    "$\\mathbf{A}(\\mathbf{A}^3 -7\\mathbf{A}^2 +78\\mathbf{A}^1 -120\\mathbf{I}) = 0$\n",
    "$\\mathbf{B}=\\mathbf{A}^3 -7\\mathbf{A}^2 +78\\mathbf{A}^1 -120\\mathbf{I}$\n",
    "\n",
    "Teraz możemy wykonać obliczenia, a potem sprawdzić, czy rzeczywiście wszystko wykonaliśmy poprawnie i  $\\mathbf{A}\\cdot\\mathbf{B} = \\mathbf{B}\\cdot\\mathbf{A} = 0$"
   ],
   "id": "673e5a3468bd4553"
  },
  {
   "metadata": {
    "ExecuteTime": {
     "end_time": "2025-01-21T22:16:21.625389Z",
     "start_time": "2025-01-21T22:16:21.579149Z"
    }
   },
   "cell_type": "code",
   "source": [
    "B_matrix = A_matrix**3 - 7*A_matrix**2 + 78*A_matrix**1 - 120*sp.eye(4)\n",
    "display(B_matrix)\n",
    "display(B_matrix*A_matrix)\n",
    "display(A_matrix*B_matrix)"
   ],
   "id": "30aa8351748e8d5a",
   "outputs": [
    {
     "data": {
      "text/plain": [
       "Matrix([\n",
       "[-80, 0, -40,  20],\n",
       "[160, 0,  80, -40],\n",
       "[-80, 0, -40,  20],\n",
       "[  0, 0,   0,   0]])"
      ],
      "text/latex": "$\\displaystyle \\left[\\begin{matrix}-80 & 0 & -40 & 20\\\\160 & 0 & 80 & -40\\\\-80 & 0 & -40 & 20\\\\0 & 0 & 0 & 0\\end{matrix}\\right]$"
     },
     "metadata": {},
     "output_type": "display_data"
    },
    {
     "data": {
      "text/plain": [
       "Matrix([\n",
       "[0, 0, 0, 0],\n",
       "[0, 0, 0, 0],\n",
       "[0, 0, 0, 0],\n",
       "[0, 0, 0, 0]])"
      ],
      "text/latex": "$\\displaystyle \\left[\\begin{matrix}0 & 0 & 0 & 0\\\\0 & 0 & 0 & 0\\\\0 & 0 & 0 & 0\\\\0 & 0 & 0 & 0\\end{matrix}\\right]$"
     },
     "metadata": {},
     "output_type": "display_data"
    },
    {
     "data": {
      "text/plain": [
       "Matrix([\n",
       "[0, 0, 0, 0],\n",
       "[0, 0, 0, 0],\n",
       "[0, 0, 0, 0],\n",
       "[0, 0, 0, 0]])"
      ],
      "text/latex": "$\\displaystyle \\left[\\begin{matrix}0 & 0 & 0 & 0\\\\0 & 0 & 0 & 0\\\\0 & 0 & 0 & 0\\\\0 & 0 & 0 & 0\\end{matrix}\\right]$"
     },
     "metadata": {},
     "output_type": "display_data"
    }
   ],
   "execution_count": 33
  },
  {
   "metadata": {},
   "cell_type": "markdown",
   "source": [
    "Zad. 7. Rozwiązać układ równań:\n",
    "$$\n",
    "\\begin{cases}\n",
    "2x + 3y - z - 2s + t = 6\\\\\n",
    "4x + 7y - 2z - 5s - t = 11\\\\\n",
    "6x + 5y - 2z - 2s + 9t = 1\n",
    "\\end{cases}\n",
    "$$\n",
    "i opisać\n",
    "- a) wektorowo\n",
    "- b) macierzowo\n",
    "jego rozwiązania.\n",
    "\n",
    "Zapisuję macierz wspólczynników, a potem tworzę macierz uzupełnioną, dodając kolumnę wyników:"
   ],
   "id": "10cf6f29d90686f6"
  },
  {
   "metadata": {
    "ExecuteTime": {
     "end_time": "2025-01-21T22:16:21.648337Z",
     "start_time": "2025-01-21T22:16:21.634388Z"
    }
   },
   "cell_type": "code",
   "source": [
    "A_matrix = sp.Matrix([[2, 3, -1, -2, 1],\n",
    "                      [4, 7, -2, -5, -1],\n",
    "                      [6, 5, -3, -2, 9]\n",
    "                      ])\n",
    "display(A_matrix)\n",
    "result_col=sp.Matrix([[6],[11],[1]])\n",
    "display(result_col)\n",
    "U_matrix = A_matrix.row_join(result_col)\n",
    "display(U_matrix)"
   ],
   "id": "507b1988325604de",
   "outputs": [
    {
     "data": {
      "text/plain": [
       "Matrix([\n",
       "[2, 3, -1, -2,  1],\n",
       "[4, 7, -2, -5, -1],\n",
       "[6, 5, -3, -2,  9]])"
      ],
      "text/latex": "$\\displaystyle \\left[\\begin{matrix}2 & 3 & -1 & -2 & 1\\\\4 & 7 & -2 & -5 & -1\\\\6 & 5 & -3 & -2 & 9\\end{matrix}\\right]$"
     },
     "metadata": {},
     "output_type": "display_data"
    },
    {
     "data": {
      "text/plain": [
       "Matrix([\n",
       "[ 6],\n",
       "[11],\n",
       "[ 1]])"
      ],
      "text/latex": "$\\displaystyle \\left[\\begin{matrix}6\\\\11\\\\1\\end{matrix}\\right]$"
     },
     "metadata": {},
     "output_type": "display_data"
    },
    {
     "data": {
      "text/plain": [
       "Matrix([\n",
       "[2, 3, -1, -2,  1,  6],\n",
       "[4, 7, -2, -5, -1, 11],\n",
       "[6, 5, -3, -2,  9,  1]])"
      ],
      "text/latex": "$\\displaystyle \\left[\\begin{matrix}2 & 3 & -1 & -2 & 1 & 6\\\\4 & 7 & -2 & -5 & -1 & 11\\\\6 & 5 & -3 & -2 & 9 & 1\\end{matrix}\\right]$"
     },
     "metadata": {},
     "output_type": "display_data"
    }
   ],
   "execution_count": 34
  },
  {
   "metadata": {},
   "cell_type": "markdown",
   "source": "Teraz możemy skorzystać z twierdzenia Kroneckera-Capelliego, sprawdzając rzędy macierzy zmiennych i uzupełnionej.",
   "id": "da4fb9ecbfa3b53"
  },
  {
   "metadata": {
    "ExecuteTime": {
     "end_time": "2025-01-21T22:16:21.735032Z",
     "start_time": "2025-01-21T22:16:21.688557Z"
    }
   },
   "cell_type": "code",
   "source": [
    "print(A_matrix.rank())\n",
    "print(U_matrix.rank())\n",
    "if A_matrix.rank() == U_matrix.rank():\n",
    "    print(\"Ponieważ rzędy macierzy głównej i uzupełnionej są sobie równe, istnieje przynajmniej jedno rozwiązanie.\")\n",
    "else:\n",
    "    print(\"Ponieważ rzędy macierzy głównej i uzupełnionej są różne od siebie, nie istnieje rozwiązanie tego układu równań i w ten oto sposób kończy się nasza praca w tym zadaniu.\")"
   ],
   "id": "d58497484c7c0cab",
   "outputs": [
    {
     "name": "stdout",
     "output_type": "stream",
     "text": [
      "3\n",
      "3\n",
      "Ponieważ rzędy macierzy głównej i uzupełnionej są sobie równe, istnieje przynajmniej jedno rozwiązanie.\n"
     ]
    }
   ],
   "execution_count": 35
  },
  {
   "metadata": {},
   "cell_type": "markdown",
   "source": "Znajduję kolumny liniowo niezależne, a następnie pozostałe kolumny przerzucam na drugą stronę:",
   "id": "d7d99d596a6190ca"
  },
  {
   "metadata": {
    "ExecuteTime": {
     "end_time": "2025-01-21T22:16:21.826158Z",
     "start_time": "2025-01-21T22:16:21.808297Z"
    }
   },
   "cell_type": "code",
   "source": [
    "base = A_matrix.columnspace()\n",
    "for column in base:\n",
    "    display(column)"
   ],
   "id": "676526e895a3e8c8",
   "outputs": [
    {
     "data": {
      "text/plain": [
       "Matrix([\n",
       "[2],\n",
       "[4],\n",
       "[6]])"
      ],
      "text/latex": "$\\displaystyle \\left[\\begin{matrix}2\\\\4\\\\6\\end{matrix}\\right]$"
     },
     "metadata": {},
     "output_type": "display_data"
    },
    {
     "data": {
      "text/plain": [
       "Matrix([\n",
       "[3],\n",
       "[7],\n",
       "[5]])"
      ],
      "text/latex": "$\\displaystyle \\left[\\begin{matrix}3\\\\7\\\\5\\end{matrix}\\right]$"
     },
     "metadata": {},
     "output_type": "display_data"
    },
    {
     "data": {
      "text/plain": [
       "Matrix([\n",
       "[ 1],\n",
       "[-1],\n",
       "[ 9]])"
      ],
      "text/latex": "$\\displaystyle \\left[\\begin{matrix}1\\\\-1\\\\9\\end{matrix}\\right]$"
     },
     "metadata": {},
     "output_type": "display_data"
    }
   ],
   "execution_count": 36
  },
  {
   "metadata": {
    "ExecuteTime": {
     "end_time": "2025-01-21T22:16:21.954372Z",
     "start_time": "2025-01-21T22:16:21.864386Z"
    }
   },
   "cell_type": "code",
   "source": [
    "x, y, z, s, t, u, v = sp.symbols('x y z s t u v')\n",
    "eq1 = sp.Eq(2*x + 3*y +t ,z + 2*s + 6)\n",
    "eq2 = sp.Eq(4*x + 7*y -t,2*z+5*s + 11)\n",
    "eq3 = sp.Eq(6*x + 5*y +9*t,3*z + 2*s+ 1)\n",
    "display(eq1)\n",
    "display(eq2)\n",
    "display(eq3)\n",
    "solutions = sp.solve((eq1, eq2, eq3), (x, y, t))\n",
    "display(Math(sp.latex(solutions)))"
   ],
   "id": "66e3e7017bc1f88c",
   "outputs": [
    {
     "data": {
      "text/plain": [
       "Eq(t + 2*x + 3*y, 2*s + z + 6)"
      ],
      "text/latex": "$\\displaystyle t + 2 x + 3 y = 2 s + z + 6$"
     },
     "metadata": {},
     "output_type": "display_data"
    },
    {
     "data": {
      "text/plain": [
       "Eq(-t + 4*x + 7*y, 5*s + 2*z + 11)"
      ],
      "text/latex": "$\\displaystyle - t + 4 x + 7 y = 5 s + 2 z + 11$"
     },
     "metadata": {},
     "output_type": "display_data"
    },
    {
     "data": {
      "text/plain": [
       "Eq(9*t + 6*x + 5*y, 2*s + 3*z + 1)"
      ],
      "text/latex": "$\\displaystyle 9 t + 6 x + 5 y = 2 s + 3 z + 1$"
     },
     "metadata": {},
     "output_type": "display_data"
    },
    {
     "data": {
      "text/plain": [
       "<IPython.core.display.Math object>"
      ],
      "text/latex": "$\\displaystyle \\left\\{ t : \\frac{7}{2}, \\  x : - \\frac{s}{2} + \\frac{z}{2} - 13, \\  y : s + \\frac{19}{2}\\right\\}$"
     },
     "metadata": {},
     "output_type": "display_data"
    }
   ],
   "execution_count": 37
  },
  {
   "metadata": {},
   "cell_type": "markdown",
   "source": [
    "Rozwiązania więc zależą od dwóch parametrów, $u$ i $v$, gdzie:\n",
    "$$\n",
    "\\begin{cases}\n",
    "x = \\dfrac{-v+u-26}{2}\\\\\n",
    "y = \\dfrac{2v+19}{2}\\\\\n",
    "z = u\\\\\n",
    "s = v\\\\\n",
    "t = \\dfrac{7}{2}\n",
    "\\end{cases}\n",
    "$$\n",
    "\n",
    "Tworzymy więc wektor rozwiązań:\n"
   ],
   "id": "93c826acf6a9f0d5"
  },
  {
   "metadata": {
    "ExecuteTime": {
     "end_time": "2025-01-21T22:16:22.066979Z",
     "start_time": "2025-01-21T22:16:22.036068Z"
    }
   },
   "cell_type": "code",
   "source": [
    "X_matrix = sp.Matrix([x, y, z, s, t])\n",
    "S_matrix = sp.Matrix([[(-v+u-26)/2],\n",
    "                      [(2*v+19)/2],\n",
    "                      [u],\n",
    "                      [v],\n",
    "                      [7/2]])\n",
    "display(X_matrix)\n",
    "display(S_matrix)\n",
    "eq_matrix = sp.Eq(X_matrix, S_matrix)\n",
    "display(eq_matrix)"
   ],
   "id": "321a44a28f13ad8e",
   "outputs": [
    {
     "data": {
      "text/plain": [
       "Matrix([\n",
       "[x],\n",
       "[y],\n",
       "[z],\n",
       "[s],\n",
       "[t]])"
      ],
      "text/latex": "$\\displaystyle \\left[\\begin{matrix}x\\\\y\\\\z\\\\s\\\\t\\end{matrix}\\right]$"
     },
     "metadata": {},
     "output_type": "display_data"
    },
    {
     "data": {
      "text/plain": [
       "Matrix([\n",
       "[u/2 - v/2 - 13],\n",
       "[      v + 19/2],\n",
       "[             u],\n",
       "[             v],\n",
       "[           3.5]])"
      ],
      "text/latex": "$\\displaystyle \\left[\\begin{matrix}\\frac{u}{2} - \\frac{v}{2} - 13\\\\v + \\frac{19}{2}\\\\u\\\\v\\\\3.5\\end{matrix}\\right]$"
     },
     "metadata": {},
     "output_type": "display_data"
    },
    {
     "data": {
      "text/plain": [
       "Eq(Matrix([\n",
       "[x],\n",
       "[y],\n",
       "[z],\n",
       "[s],\n",
       "[t]]), Matrix([\n",
       "[u/2 - v/2 - 13],\n",
       "[      v + 19/2],\n",
       "[             u],\n",
       "[             v],\n",
       "[           3.5]]))"
      ],
      "text/latex": "$\\displaystyle \\left[\\begin{matrix}x\\\\y\\\\z\\\\s\\\\t\\end{matrix}\\right] = \\left[\\begin{matrix}\\frac{u}{2} - \\frac{v}{2} - 13\\\\v + \\frac{19}{2}\\\\u\\\\v\\\\3.5\\end{matrix}\\right]$"
     },
     "metadata": {},
     "output_type": "display_data"
    }
   ],
   "execution_count": 38
  },
  {
   "metadata": {},
   "cell_type": "markdown",
   "source": "Sprawdzamy, czy wyszedł nam poprawny wynik:",
   "id": "68aed675ebcbd364"
  },
  {
   "metadata": {
    "ExecuteTime": {
     "end_time": "2025-01-21T22:16:22.121385Z",
     "start_time": "2025-01-21T22:16:22.107921Z"
    }
   },
   "cell_type": "code",
   "source": "display(A_matrix*S_matrix)",
   "id": "75863a843d2d064a",
   "outputs": [
    {
     "data": {
      "text/plain": [
       "Matrix([\n",
       "[ 6.0],\n",
       "[11.0],\n",
       "[ 1.0]])"
      ],
      "text/latex": "$\\displaystyle \\left[\\begin{matrix}6.0\\\\11.0\\\\1.0\\end{matrix}\\right]$"
     },
     "metadata": {},
     "output_type": "display_data"
    }
   ],
   "execution_count": 39
  },
  {
   "metadata": {},
   "cell_type": "markdown",
   "source": "W celu zapisania rozwiązania macierzowego zapisujemy wektory rozwiązań od u, v i 1, a następnie je łączymy w macierz rozwiązań i sprawdamy, czy wyszedł nam poprawny wynik:",
   "id": "2ae2324d06a2c643"
  },
  {
   "metadata": {
    "ExecuteTime": {
     "end_time": "2025-01-21T22:16:22.245158Z",
     "start_time": "2025-01-21T22:16:22.198176Z"
    }
   },
   "cell_type": "code",
   "source": [
    "Jednosci_matrix = sp.Matrix([-13, 19/2, 0, 0, 7/2])\n",
    "display(Jednosci_matrix)\n",
    "U_matrix = sp.Matrix([1/2, 0, 1, 0, 0])\n",
    "display(U_matrix)\n",
    "V_matrix = sp.Matrix([-1/2, 1, 0,1, 0])\n",
    "display(V_matrix)\n",
    "X_solution_matrix = sp.Matrix.hstack(Jednosci_matrix, U_matrix, V_matrix)\n",
    "display(X_solution_matrix)\n",
    "display(A_matrix*X_solution_matrix)"
   ],
   "id": "2b2e84dd1fe1915b",
   "outputs": [
    {
     "data": {
      "text/plain": [
       "Matrix([\n",
       "[-13],\n",
       "[9.5],\n",
       "[  0],\n",
       "[  0],\n",
       "[3.5]])"
      ],
      "text/latex": "$\\displaystyle \\left[\\begin{matrix}-13\\\\9.5\\\\0\\\\0\\\\3.5\\end{matrix}\\right]$"
     },
     "metadata": {},
     "output_type": "display_data"
    },
    {
     "data": {
      "text/plain": [
       "Matrix([\n",
       "[0.5],\n",
       "[  0],\n",
       "[  1],\n",
       "[  0],\n",
       "[  0]])"
      ],
      "text/latex": "$\\displaystyle \\left[\\begin{matrix}0.5\\\\0\\\\1\\\\0\\\\0\\end{matrix}\\right]$"
     },
     "metadata": {},
     "output_type": "display_data"
    },
    {
     "data": {
      "text/plain": [
       "Matrix([\n",
       "[-0.5],\n",
       "[   1],\n",
       "[   0],\n",
       "[   1],\n",
       "[   0]])"
      ],
      "text/latex": "$\\displaystyle \\left[\\begin{matrix}-0.5\\\\1\\\\0\\\\1\\\\0\\end{matrix}\\right]$"
     },
     "metadata": {},
     "output_type": "display_data"
    },
    {
     "data": {
      "text/plain": [
       "Matrix([\n",
       "[-13, 0.5, -0.5],\n",
       "[9.5,   0,    1],\n",
       "[  0,   1,    0],\n",
       "[  0,   0,    1],\n",
       "[3.5,   0,    0]])"
      ],
      "text/latex": "$\\displaystyle \\left[\\begin{matrix}-13 & 0.5 & -0.5\\\\9.5 & 0 & 1\\\\0 & 1 & 0\\\\0 & 0 & 1\\\\3.5 & 0 & 0\\end{matrix}\\right]$"
     },
     "metadata": {},
     "output_type": "display_data"
    },
    {
     "data": {
      "text/plain": [
       "Matrix([\n",
       "[ 6.0, 0, 0],\n",
       "[11.0, 0, 0],\n",
       "[ 1.0, 0, 0]])"
      ],
      "text/latex": "$\\displaystyle \\left[\\begin{matrix}6.0 & 0 & 0\\\\11.0 & 0 & 0\\\\1.0 & 0 & 0\\end{matrix}\\right]$"
     },
     "metadata": {},
     "output_type": "display_data"
    }
   ],
   "execution_count": 40
  },
  {
   "metadata": {},
   "cell_type": "markdown",
   "source": [
    "Zad. 8. Dla liczb zespolonych:\n",
    "\n",
    "$z=4+5i, w=7-3i$\n",
    "\n",
    "obliczyć:\n",
    "\n",
    "$z+w, z-w, z\\cdot w, z/w, z^3/w^3$\n",
    "\n",
    "Zapisujemy te dwie liczby, a następnie wykonujemy na nich działnia:"
   ],
   "id": "460959db811ac689"
  },
  {
   "metadata": {
    "ExecuteTime": {
     "end_time": "2025-01-21T22:16:22.359421Z",
     "start_time": "2025-01-21T22:16:22.280403Z"
    }
   },
   "cell_type": "code",
   "source": [
    "z_complex = 4+5*I\n",
    "w_complex = 7-3*I\n",
    "display(z_complex)\n",
    "display(w_complex)\n",
    "suma_z = (z_complex+w_complex)\n",
    "display(suma_z)\n",
    "roznica_z = (z_complex-w_complex)\n",
    "display(roznica_z)\n",
    "iloczyn_z = sp.simplify(z_complex*w_complex)\n",
    "display(iloczyn_z)\n",
    "iloraz_z = sp.simplify(z_complex/w_complex)\n",
    "display(iloraz_z)\n",
    "potega_iloraz_z = sp.simplify(z_complex**3/w_complex**3)\n",
    "display(potega_iloraz_z)"
   ],
   "id": "a17321de9618831f",
   "outputs": [
    {
     "data": {
      "text/plain": [
       "4 + 5*I"
      ],
      "text/latex": "$\\displaystyle 4 + 5 i$"
     },
     "metadata": {},
     "output_type": "display_data"
    },
    {
     "data": {
      "text/plain": [
       "7 - 3*I"
      ],
      "text/latex": "$\\displaystyle 7 - 3 i$"
     },
     "metadata": {},
     "output_type": "display_data"
    },
    {
     "data": {
      "text/plain": [
       "11 + 2*I"
      ],
      "text/latex": "$\\displaystyle 11 + 2 i$"
     },
     "metadata": {},
     "output_type": "display_data"
    },
    {
     "data": {
      "text/plain": [
       "-3 + 8*I"
      ],
      "text/latex": "$\\displaystyle -3 + 8 i$"
     },
     "metadata": {},
     "output_type": "display_data"
    },
    {
     "data": {
      "text/plain": [
       "43 + 23*I"
      ],
      "text/latex": "$\\displaystyle 43 + 23 i$"
     },
     "metadata": {},
     "output_type": "display_data"
    },
    {
     "data": {
      "text/plain": [
       "13/58 + 47*I/58"
      ],
      "text/latex": "$\\displaystyle \\frac{13}{58} + \\frac{47 i}{58}$"
     },
     "metadata": {},
     "output_type": "display_data"
    },
    {
     "data": {
      "text/plain": [
       "-41977/97556 - 39997*I/97556"
      ],
      "text/latex": "$\\displaystyle - \\frac{41977}{97556} - \\frac{39997 i}{97556}$"
     },
     "metadata": {},
     "output_type": "display_data"
    }
   ],
   "execution_count": 41
  },
  {
   "metadata": {},
   "cell_type": "markdown",
   "source": "Zad. 9. Dla macierzy\n",
   "id": "8885823e58868ef"
  },
  {
   "metadata": {
    "ExecuteTime": {
     "end_time": "2025-01-21T22:16:22.454003Z",
     "start_time": "2025-01-21T22:16:22.437019Z"
    }
   },
   "cell_type": "code",
   "source": [
    "A_matrix = sp.Matrix([[24, -7],\n",
    "                      [7, 24]\n",
    "                      ])\n",
    "A = sp.MatrixSymbol('A', 2, 2)\n",
    "display(sp.Eq(A,A_matrix))"
   ],
   "id": "84bc4c4658e4db30",
   "outputs": [
    {
     "data": {
      "text/plain": [
       "Eq(A, Matrix([\n",
       "[24, -7],\n",
       "[ 7, 24]]))"
      ],
      "text/latex": "$\\displaystyle A = \\left[\\begin{matrix}24 & -7\\\\7 & 24\\end{matrix}\\right]$"
     },
     "metadata": {},
     "output_type": "display_data"
    }
   ],
   "execution_count": 42
  },
  {
   "metadata": {},
   "cell_type": "markdown",
   "source": [
    "Obliczyć pierwiastki kwadratowe z jej wartości własnych.\n",
    "\n",
    "Korzystamy ze wcześniej zdefiniowanej funkcji i wyliczyamy wielomian charakterystyczny macierzy:"
   ],
   "id": "646d04da1caf6bfe"
  },
  {
   "metadata": {
    "ExecuteTime": {
     "end_time": "2025-01-21T22:16:22.480985Z",
     "start_time": "2025-01-21T22:16:22.472012Z"
    }
   },
   "cell_type": "code",
   "source": [
    "polynomial_A = characteristic_polynomial(A_matrix)\n",
    "display(polynomial_A)\n"
   ],
   "id": "3f824fd294e65526",
   "outputs": [
    {
     "data": {
      "text/plain": [
       "<IPython.core.display.Math object>"
      ],
      "text/latex": "$\\displaystyle \\left[\\begin{matrix}24 - \\lambda & -7\\\\7 & 24 - \\lambda\\end{matrix}\\right]$"
     },
     "metadata": {},
     "output_type": "display_data"
    },
    {
     "data": {
      "text/plain": [
       "\\lambda**2 - 48*\\lambda + 625"
      ],
      "text/latex": "$\\displaystyle \\lambda^{2} - 48 \\lambda + 625$"
     },
     "metadata": {},
     "output_type": "display_data"
    }
   ],
   "execution_count": 43
  },
  {
   "metadata": {},
   "cell_type": "markdown",
   "source": "Znajdujemy wartości własne macierzy A, przyrównując wielomian charakterystyczny do zera:",
   "id": "c680b21df63b4a72"
  },
  {
   "metadata": {
    "ExecuteTime": {
     "end_time": "2025-01-21T22:16:22.575917Z",
     "start_time": "2025-01-21T22:16:22.526239Z"
    }
   },
   "cell_type": "code",
   "source": [
    "eq_p_A = sp.Eq(polynomial_A, 0)\n",
    "eq_p_A_sol = sp.solve(eq_p_A)\n",
    "display(eq_p_A_sol)\n",
    "def test_wyniku(eq_p_A_sol):\n",
    "    for solution in eq_p_A_sol:\n",
    "        result = solution**2 - 48 * solution + 625\n",
    "        display(sp.simplify(result))\n",
    "test_wyniku(eq_p_A_sol)"
   ],
   "id": "358c10ae80de041e",
   "outputs": [
    {
     "data": {
      "text/plain": [
       "[24 - 7*I, 24 + 7*I]"
      ]
     },
     "metadata": {},
     "output_type": "display_data"
    },
    {
     "data": {
      "text/plain": [
       "0"
      ],
      "text/latex": "$\\displaystyle 0$"
     },
     "metadata": {},
     "output_type": "display_data"
    },
    {
     "data": {
      "text/plain": [
       "0"
      ],
      "text/latex": "$\\displaystyle 0$"
     },
     "metadata": {},
     "output_type": "display_data"
    }
   ],
   "execution_count": 44
  },
  {
   "metadata": {},
   "cell_type": "markdown",
   "source": [
    "W celu obliczenia pierwiastków kwadratowych wartości własnych możemy skorzystać z układu równań. Wiemy, że podnosząc liczbę zespoloną do kwadratu, otrzymujemy:\n",
    "\n",
    "$$\n",
    "(a+bi)^2 = a^2 - b^2 + 2ab i\n",
    "$$\n",
    "\n",
    "Oznacza to, że $a^2 - b^2$ musi być równe części rzeczywistej naszych wartości własnych, a $2ab$ części urojonej. Oznacza to, że dla $\\lambda_1 = 24-7i$ musimy zapisać i rozwiązać następujący układ równań:\n",
    "\n",
    "$$\n",
    "\\begin{cases}\n",
    "a^2 - b^2 = 24\\\\\n",
    "2ab = -7\n",
    "\\end{cases}\n",
    "$$\n",
    "\n",
    "Natomiast dla $\\lambda_2 = 24+7i$ musimy zapisać i rozwiązać:\n",
    "\n",
    "$$\n",
    "\\begin{cases}\n",
    "a^2 - b^2 = 24\\\\\n",
    "2ab = 7\n",
    "\\end{cases}\n",
    "$$\n",
    "\n",
    "Rozwiązujemy więc:"
   ],
   "id": "1429ff66c7dac3aa"
  },
  {
   "metadata": {
    "ExecuteTime": {
     "end_time": "2025-01-21T23:12:08.367523Z",
     "start_time": "2025-01-21T23:12:08.316705Z"
    }
   },
   "cell_type": "code",
   "source": [
    "a, b = sp.symbols('a b')\n",
    "def pierwiastki_kwadratowe(eq_1, eq_2,numer):\n",
    "    solutions = sp.solve((eq_11, eq_12), (a, b))\n",
    "    for i, solution in enumerate(solutions):\n",
    "        display(Math(f'\\\\sqrt{{\\\\lambda_{numer}}}'\n",
    "                     +'='\n",
    "                     + f'w_{i+1}'\n",
    "                     +'='\n",
    "                     +sp.latex(solution[0])\n",
    "                     +'+'\n",
    "                     +sp.latex(solution[1])\n",
    "                     +'i'))\n",
    "        # else:\n",
    "        #     display(Math(f'\\\\sqrt{{\\\\lambda_{numer}}}'\n",
    "        #                  +'='\n",
    "        #                  + f'w_{i+1}'\n",
    "        #                  +'='\n",
    "        #                  +sp.latex(solution[0])\n",
    "        #                  +sp.latex(solution[1])\n",
    "        #                  +'i'))\n",
    "print(\"Pierwsza \")\n",
    "eq_11 = sp.Eq(a**2 - b**2, 24)\n",
    "eq_12 = sp.Eq(2*a*b, -7)\n",
    "pierwiastki_kwadratowe(eq_11, eq_12, 1)\n",
    "eq_21 = sp.Eq(a**2 - b**2, 24)\n",
    "eq_22 = sp.Eq(2*a*b, 7)\n",
    "pierwiastki_kwadratowe(eq_21, eq_22, 2)"
   ],
   "id": "65a1f5735a7c7e70",
   "outputs": [
    {
     "name": "stdout",
     "output_type": "stream",
     "text": [
      "Pierwsza \n"
     ]
    },
    {
     "data": {
      "text/plain": [
       "<IPython.core.display.Math object>"
      ],
      "text/latex": "$\\displaystyle \\sqrt{\\lambda_1}=w_1=- \\frac{7 \\sqrt{2}}{2}+\\frac{\\sqrt{2}}{2}i$"
     },
     "metadata": {},
     "output_type": "display_data"
    },
    {
     "data": {
      "text/plain": [
       "<IPython.core.display.Math object>"
      ],
      "text/latex": "$\\displaystyle \\sqrt{\\lambda_1}=w_2=\\frac{7 \\sqrt{2}}{2}+- \\frac{\\sqrt{2}}{2}i$"
     },
     "metadata": {},
     "output_type": "display_data"
    },
    {
     "data": {
      "text/plain": [
       "<IPython.core.display.Math object>"
      ],
      "text/latex": "$\\displaystyle \\sqrt{\\lambda_1}=w_3=- \\frac{\\sqrt{2} i}{2}+- \\frac{7 \\sqrt{2} i}{2}i$"
     },
     "metadata": {},
     "output_type": "display_data"
    },
    {
     "data": {
      "text/plain": [
       "<IPython.core.display.Math object>"
      ],
      "text/latex": "$\\displaystyle \\sqrt{\\lambda_1}=w_4=\\frac{\\sqrt{2} i}{2}+\\frac{7 \\sqrt{2} i}{2}i$"
     },
     "metadata": {},
     "output_type": "display_data"
    },
    {
     "data": {
      "text/plain": [
       "<IPython.core.display.Math object>"
      ],
      "text/latex": "$\\displaystyle \\sqrt{\\lambda_2}=w_1=- \\frac{7 \\sqrt{2}}{2}+\\frac{\\sqrt{2}}{2}i$"
     },
     "metadata": {},
     "output_type": "display_data"
    },
    {
     "data": {
      "text/plain": [
       "<IPython.core.display.Math object>"
      ],
      "text/latex": "$\\displaystyle \\sqrt{\\lambda_2}=w_2=\\frac{7 \\sqrt{2}}{2}+- \\frac{\\sqrt{2}}{2}i$"
     },
     "metadata": {},
     "output_type": "display_data"
    },
    {
     "data": {
      "text/plain": [
       "<IPython.core.display.Math object>"
      ],
      "text/latex": "$\\displaystyle \\sqrt{\\lambda_2}=w_3=- \\frac{\\sqrt{2} i}{2}+- \\frac{7 \\sqrt{2} i}{2}i$"
     },
     "metadata": {},
     "output_type": "display_data"
    },
    {
     "data": {
      "text/plain": [
       "<IPython.core.display.Math object>"
      ],
      "text/latex": "$\\displaystyle \\sqrt{\\lambda_2}=w_4=\\frac{\\sqrt{2} i}{2}+\\frac{7 \\sqrt{2} i}{2}i$"
     },
     "metadata": {},
     "output_type": "display_data"
    }
   ],
   "execution_count": 91
  },
  {
   "metadata": {},
   "cell_type": "code",
   "outputs": [],
   "execution_count": null,
   "source": "",
   "id": "dca7d9cdd254c60"
  }
 ],
 "metadata": {
  "kernelspec": {
   "display_name": "Python 3 (ipykernel)",
   "language": "python",
   "name": "python3"
  },
  "language_info": {
   "codemirror_mode": {
    "name": "ipython",
    "version": 3
   },
   "file_extension": ".py",
   "mimetype": "text/x-python",
   "name": "python",
   "nbconvert_exporter": "python",
   "pygments_lexer": "ipython3",
   "version": "3.12.8"
  }
 },
 "nbformat": 4,
 "nbformat_minor": 5
}
