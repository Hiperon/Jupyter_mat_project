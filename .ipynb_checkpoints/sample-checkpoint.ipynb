{
 "cells": [
  {
   "metadata": {
    "ExecuteTime": {
     "end_time": "2025-01-19T12:33:50.470264Z",
     "start_time": "2025-01-19T12:33:50.463279Z"
    }
   },
   "cell_type": "code",
   "source": [
    "import sympy as sp\n",
    "import numpy as np"
   ],
   "id": "e78e50b5a128b12e",
   "outputs": [],
   "execution_count": 8
  },
  {
   "metadata": {},
   "cell_type": "markdown",
   "source": [
    "# This is a sample Jupyter Notebook\n",
    "\n",
    "Below is an example of a code cell. \n",
    "Put your cursor into the cell and press Shift+Enter to execute it and select the next one, or click 'Run Cell' button.\n",
    "\n",
    "Press Double Shift to search everywhere for classes, files, tool windows, actions, and settings.\n",
    "\n",
    "To learn more about Jupyter Notebooks in PyCharm, see [help](https://www.jetbrains.com/help/pycharm/ipython-notebook-support.html).\n",
    "For an overview of PyCharm, go to Help -> Learn IDE features or refer to [our documentation](https://www.jetbrains.com/help/pycharm/getting-started.html)."
   ],
   "id": "8a77807f92f26ee"
  },
  {
   "metadata": {
    "ExecuteTime": {
     "end_time": "2025-01-19T12:33:50.529392Z",
     "start_time": "2025-01-19T12:33:50.517734Z"
    }
   },
   "cell_type": "code",
   "source": "print(\"Hello World!\")\n",
   "id": "fbc121e30a2defb3",
   "outputs": [
    {
     "name": "stdout",
     "output_type": "stream",
     "text": [
      "Hello World!\n"
     ]
    }
   ],
   "execution_count": 9
  },
  {
   "metadata": {},
   "cell_type": "markdown",
   "source": [
    "Zbadać ilość cyfr poniższej liczby x w zależności od podstawy g:\n",
    "\n"
   ],
   "id": "5728c9d36f44a731"
  },
  {
   "metadata": {
    "ExecuteTime": {
     "end_time": "2025-01-19T12:33:50.581369Z",
     "start_time": "2025-01-19T12:33:50.575401Z"
    }
   },
   "cell_type": "code",
   "source": "x=36987654321234567",
   "id": "661c82603be3e3d0",
   "outputs": [],
   "execution_count": 10
  },
  {
   "metadata": {},
   "cell_type": "markdown",
   "source": "Stosujemy wzór $n=1+\\log_g(x)$\n",
   "id": "b639bc812e75b752"
  },
  {
   "metadata": {
    "ExecuteTime": {
     "end_time": "2025-01-19T12:33:50.632370Z",
     "start_time": "2025-01-19T12:33:50.621294Z"
    }
   },
   "cell_type": "code",
   "source": [
    "def ilosc_cyfr(x, g):\n",
    "    n=1+sp.floor(np.log(x)/np.log(g))\n",
    "    return n\n",
    "n=(ilosc_cyfr(x, 2))\n",
    "print(n)"
   ],
   "id": "38f27aeefb028588",
   "outputs": [
    {
     "name": "stdout",
     "output_type": "stream",
     "text": [
      "56\n"
     ]
    }
   ],
   "execution_count": 11
  },
  {
   "metadata": {},
   "cell_type": "markdown",
   "source": [
    "| g                          | 2                         | 3 | 4 | 5 | 6 | 7 | 8 | 9 | 10 |\n",
    "|----------------------------|---------------------------|---|---|---|---|---|---|---|----|\n",
    "| $\\dfrac{log(x)}{log(g)}+1$ |  | 3 | 4 | 5 | 6 | 7 | 8 | 9 | 10 |\n"
   ],
   "id": "d81c78d68f1da47d"
  }
 ],
 "metadata": {
  "kernelspec": {
   "display_name": "Python 3",
   "language": "python",
   "name": "python3"
  },
  "language_info": {
   "codemirror_mode": {
    "name": "ipython",
    "version": 2
   },
   "file_extension": ".py",
   "mimetype": "text/x-python",
   "name": "python",
   "nbconvert_exporter": "python",
   "pygments_lexer": "ipython2",
   "version": "2.7.6"
  }
 },
 "nbformat": 4,
 "nbformat_minor": 5
}
